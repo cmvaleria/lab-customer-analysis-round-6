{
 "cells": [
  {
   "cell_type": "markdown",
   "id": "464c1123",
   "metadata": {},
   "source": [
    "# >> GET THE DATA\n",
    "\n",
    "<br>\n",
    "<br>"
   ]
  },
  {
   "cell_type": "code",
   "execution_count": 2,
   "id": "6945e539",
   "metadata": {},
   "outputs": [],
   "source": [
    "#For this lab, we will be using the marketing_customer_analysis.csv file that you can find in the files_for_lab folder. Check out the files_for_lab/about.md to get more information if you are using the Online Excel.\n",
    "\n",
    "#Note: For the next labs we will be using the same data file. Please save the code, so that you can re-use it later in the labs following this lab.\n",
    "\n",
    "#1) Show the dataframe shape.\n",
    "\n",
    "import pandas as pd \n",
    "import numpy as np"
   ]
  },
  {
   "cell_type": "code",
   "execution_count": 3,
   "id": "267528ab",
   "metadata": {},
   "outputs": [
    {
     "name": "stdout",
     "output_type": "stream",
     "text": [
      "Lab Customer Analysis Round 6_W1_D5.ipynb\r\n",
      "\u001b[34mfiles_for_lab\u001b[m\u001b[m\r\n",
      "readme.md\r\n"
     ]
    }
   ],
   "source": [
    "!ls"
   ]
  },
  {
   "cell_type": "code",
   "execution_count": 4,
   "id": "37814a0d",
   "metadata": {},
   "outputs": [],
   "source": [
    "marketing_customer_analysis = pd.read_excel('files_for_lab/excel_files/marketing_customer_analysis.xlsx')"
   ]
  },
  {
   "cell_type": "code",
   "execution_count": 5,
   "id": "725bb7d7",
   "metadata": {},
   "outputs": [
    {
     "data": {
      "text/plain": [
       "(10910, 26)"
      ]
     },
     "execution_count": 5,
     "metadata": {},
     "output_type": "execute_result"
    }
   ],
   "source": [
    "marketing_customer_analysis.shape"
   ]
  },
  {
   "cell_type": "code",
   "execution_count": 6,
   "id": "1d74db41",
   "metadata": {},
   "outputs": [
    {
     "data": {
      "text/plain": [
       "Index(['Unnamed: 0', 'Customer', 'State', 'Customer Lifetime Value',\n",
       "       'Response', 'Coverage', 'Education', 'Effective To Date',\n",
       "       'EmploymentStatus', 'Gender', 'Income', 'Location Code',\n",
       "       'Marital Status', 'Monthly Premium Auto', 'Months Since Last Claim',\n",
       "       'Months Since Policy Inception', 'Number of Open Complaints',\n",
       "       'Number of Policies', 'Policy Type', 'Policy', 'Renew Offer Type',\n",
       "       'Sales Channel', 'Total Claim Amount', 'Vehicle Class', 'Vehicle Size',\n",
       "       'Vehicle Type'],\n",
       "      dtype='object')"
      ]
     },
     "metadata": {},
     "output_type": "display_data"
    }
   ],
   "source": [
    "#2) Standardize header names.\n",
    "\n",
    "display(marketing_customer_analysis.columns)"
   ]
  },
  {
   "cell_type": "code",
   "execution_count": 7,
   "id": "54c174c3",
   "metadata": {},
   "outputs": [],
   "source": [
    "cols = []\n",
    "for i in range(len(marketing_customer_analysis.columns)):\n",
    "    cols.append(marketing_customer_analysis.columns[i].lower())\n",
    "marketing_customer_analysis.columns = cols"
   ]
  },
  {
   "cell_type": "code",
   "execution_count": 8,
   "id": "cc473933",
   "metadata": {},
   "outputs": [
    {
     "data": {
      "text/plain": [
       "Index(['unnamed: 0', 'customer', 'state', 'customer lifetime value',\n",
       "       'response', 'coverage', 'education', 'effective to date',\n",
       "       'employmentstatus', 'gender', 'income', 'location code',\n",
       "       'marital status', 'monthly premium auto', 'months since last claim',\n",
       "       'months since policy inception', 'number of open complaints',\n",
       "       'number of policies', 'policy type', 'policy', 'renew offer type',\n",
       "       'sales channel', 'total claim amount', 'vehicle class', 'vehicle size',\n",
       "       'vehicle type'],\n",
       "      dtype='object')"
      ]
     },
     "metadata": {},
     "output_type": "display_data"
    }
   ],
   "source": [
    "display(marketing_customer_analysis.columns)"
   ]
  },
  {
   "cell_type": "code",
   "execution_count": 9,
   "id": "2d4d712a",
   "metadata": {},
   "outputs": [
    {
     "data": {
      "text/html": [
       "<div>\n",
       "<style scoped>\n",
       "    .dataframe tbody tr th:only-of-type {\n",
       "        vertical-align: middle;\n",
       "    }\n",
       "\n",
       "    .dataframe tbody tr th {\n",
       "        vertical-align: top;\n",
       "    }\n",
       "\n",
       "    .dataframe thead th {\n",
       "        text-align: right;\n",
       "    }\n",
       "</style>\n",
       "<table border=\"1\" class=\"dataframe\">\n",
       "  <thead>\n",
       "    <tr style=\"text-align: right;\">\n",
       "      <th></th>\n",
       "      <th>unnamed: 0</th>\n",
       "      <th>customer</th>\n",
       "      <th>state</th>\n",
       "      <th>customer lifetime value</th>\n",
       "      <th>response</th>\n",
       "      <th>coverage</th>\n",
       "      <th>education</th>\n",
       "      <th>effective to date</th>\n",
       "      <th>employmentstatus</th>\n",
       "      <th>gender</th>\n",
       "      <th>...</th>\n",
       "      <th>number of open complaints</th>\n",
       "      <th>number of policies</th>\n",
       "      <th>policy type</th>\n",
       "      <th>policy</th>\n",
       "      <th>renew offer type</th>\n",
       "      <th>sales channel</th>\n",
       "      <th>total claim amount</th>\n",
       "      <th>vehicle class</th>\n",
       "      <th>vehicle size</th>\n",
       "      <th>vehicle type</th>\n",
       "    </tr>\n",
       "  </thead>\n",
       "  <tbody>\n",
       "    <tr>\n",
       "      <th>0</th>\n",
       "      <td>0</td>\n",
       "      <td>DK49336</td>\n",
       "      <td>Arizona</td>\n",
       "      <td>4809.216960</td>\n",
       "      <td>No</td>\n",
       "      <td>Basic</td>\n",
       "      <td>College</td>\n",
       "      <td>2011-02-18</td>\n",
       "      <td>Employed</td>\n",
       "      <td>M</td>\n",
       "      <td>...</td>\n",
       "      <td>0.0</td>\n",
       "      <td>9</td>\n",
       "      <td>Corporate Auto</td>\n",
       "      <td>Corporate L3</td>\n",
       "      <td>Offer3</td>\n",
       "      <td>Agent</td>\n",
       "      <td>292.800000</td>\n",
       "      <td>Four-Door Car</td>\n",
       "      <td>Medsize</td>\n",
       "      <td>NaN</td>\n",
       "    </tr>\n",
       "    <tr>\n",
       "      <th>1</th>\n",
       "      <td>1</td>\n",
       "      <td>KX64629</td>\n",
       "      <td>California</td>\n",
       "      <td>2228.525238</td>\n",
       "      <td>No</td>\n",
       "      <td>Basic</td>\n",
       "      <td>College</td>\n",
       "      <td>2011-01-18</td>\n",
       "      <td>Unemployed</td>\n",
       "      <td>F</td>\n",
       "      <td>...</td>\n",
       "      <td>0.0</td>\n",
       "      <td>1</td>\n",
       "      <td>Personal Auto</td>\n",
       "      <td>Personal L3</td>\n",
       "      <td>Offer4</td>\n",
       "      <td>Call Center</td>\n",
       "      <td>744.924331</td>\n",
       "      <td>Four-Door Car</td>\n",
       "      <td>Medsize</td>\n",
       "      <td>NaN</td>\n",
       "    </tr>\n",
       "    <tr>\n",
       "      <th>2</th>\n",
       "      <td>2</td>\n",
       "      <td>LZ68649</td>\n",
       "      <td>Washington</td>\n",
       "      <td>14947.917300</td>\n",
       "      <td>No</td>\n",
       "      <td>Basic</td>\n",
       "      <td>Bachelor</td>\n",
       "      <td>2011-02-10</td>\n",
       "      <td>Employed</td>\n",
       "      <td>M</td>\n",
       "      <td>...</td>\n",
       "      <td>0.0</td>\n",
       "      <td>2</td>\n",
       "      <td>Personal Auto</td>\n",
       "      <td>Personal L3</td>\n",
       "      <td>Offer3</td>\n",
       "      <td>Call Center</td>\n",
       "      <td>480.000000</td>\n",
       "      <td>SUV</td>\n",
       "      <td>Medsize</td>\n",
       "      <td>A</td>\n",
       "    </tr>\n",
       "    <tr>\n",
       "      <th>3</th>\n",
       "      <td>3</td>\n",
       "      <td>XL78013</td>\n",
       "      <td>Oregon</td>\n",
       "      <td>22332.439460</td>\n",
       "      <td>Yes</td>\n",
       "      <td>Extended</td>\n",
       "      <td>College</td>\n",
       "      <td>2011-01-11</td>\n",
       "      <td>Employed</td>\n",
       "      <td>M</td>\n",
       "      <td>...</td>\n",
       "      <td>0.0</td>\n",
       "      <td>2</td>\n",
       "      <td>Corporate Auto</td>\n",
       "      <td>Corporate L3</td>\n",
       "      <td>Offer2</td>\n",
       "      <td>Branch</td>\n",
       "      <td>484.013411</td>\n",
       "      <td>Four-Door Car</td>\n",
       "      <td>Medsize</td>\n",
       "      <td>A</td>\n",
       "    </tr>\n",
       "    <tr>\n",
       "      <th>4</th>\n",
       "      <td>4</td>\n",
       "      <td>QA50777</td>\n",
       "      <td>Oregon</td>\n",
       "      <td>9025.067525</td>\n",
       "      <td>No</td>\n",
       "      <td>Premium</td>\n",
       "      <td>Bachelor</td>\n",
       "      <td>2011-01-17</td>\n",
       "      <td>Medical Leave</td>\n",
       "      <td>F</td>\n",
       "      <td>...</td>\n",
       "      <td>NaN</td>\n",
       "      <td>7</td>\n",
       "      <td>Personal Auto</td>\n",
       "      <td>Personal L2</td>\n",
       "      <td>Offer1</td>\n",
       "      <td>Branch</td>\n",
       "      <td>707.925645</td>\n",
       "      <td>Four-Door Car</td>\n",
       "      <td>Medsize</td>\n",
       "      <td>NaN</td>\n",
       "    </tr>\n",
       "  </tbody>\n",
       "</table>\n",
       "<p>5 rows × 26 columns</p>\n",
       "</div>"
      ],
      "text/plain": [
       "   unnamed: 0 customer       state  customer lifetime value response  \\\n",
       "0           0  DK49336     Arizona              4809.216960       No   \n",
       "1           1  KX64629  California              2228.525238       No   \n",
       "2           2  LZ68649  Washington             14947.917300       No   \n",
       "3           3  XL78013      Oregon             22332.439460      Yes   \n",
       "4           4  QA50777      Oregon              9025.067525       No   \n",
       "\n",
       "   coverage education effective to date employmentstatus gender  ...  \\\n",
       "0     Basic   College        2011-02-18         Employed      M  ...   \n",
       "1     Basic   College        2011-01-18       Unemployed      F  ...   \n",
       "2     Basic  Bachelor        2011-02-10         Employed      M  ...   \n",
       "3  Extended   College        2011-01-11         Employed      M  ...   \n",
       "4   Premium  Bachelor        2011-01-17    Medical Leave      F  ...   \n",
       "\n",
       "   number of open complaints number of policies     policy type        policy  \\\n",
       "0                        0.0                  9  Corporate Auto  Corporate L3   \n",
       "1                        0.0                  1   Personal Auto   Personal L3   \n",
       "2                        0.0                  2   Personal Auto   Personal L3   \n",
       "3                        0.0                  2  Corporate Auto  Corporate L3   \n",
       "4                        NaN                  7   Personal Auto   Personal L2   \n",
       "\n",
       "   renew offer type  sales channel  total claim amount  vehicle class  \\\n",
       "0            Offer3          Agent          292.800000  Four-Door Car   \n",
       "1            Offer4    Call Center          744.924331  Four-Door Car   \n",
       "2            Offer3    Call Center          480.000000            SUV   \n",
       "3            Offer2         Branch          484.013411  Four-Door Car   \n",
       "4            Offer1         Branch          707.925645  Four-Door Car   \n",
       "\n",
       "  vehicle size vehicle type  \n",
       "0      Medsize          NaN  \n",
       "1      Medsize          NaN  \n",
       "2      Medsize            A  \n",
       "3      Medsize            A  \n",
       "4      Medsize          NaN  \n",
       "\n",
       "[5 rows x 26 columns]"
      ]
     },
     "execution_count": 9,
     "metadata": {},
     "output_type": "execute_result"
    }
   ],
   "source": [
    "marketing_customer_analysis.head()"
   ]
  },
  {
   "cell_type": "code",
   "execution_count": 10,
   "id": "14552da0",
   "metadata": {},
   "outputs": [
    {
     "name": "stdout",
     "output_type": "stream",
     "text": [
      "<class 'pandas.core.frame.DataFrame'>\n",
      "RangeIndex: 10910 entries, 0 to 10909\n",
      "Data columns (total 26 columns):\n",
      " #   Column                         Non-Null Count  Dtype         \n",
      "---  ------                         --------------  -----         \n",
      " 0   unnamed: 0                     10910 non-null  int64         \n",
      " 1   customer                       10910 non-null  object        \n",
      " 2   state                          10279 non-null  object        \n",
      " 3   customer lifetime value        10910 non-null  float64       \n",
      " 4   response                       10279 non-null  object        \n",
      " 5   coverage                       10910 non-null  object        \n",
      " 6   education                      10910 non-null  object        \n",
      " 7   effective to date              10910 non-null  datetime64[ns]\n",
      " 8   employmentstatus               10910 non-null  object        \n",
      " 9   gender                         10910 non-null  object        \n",
      " 10  income                         10910 non-null  int64         \n",
      " 11  location code                  10910 non-null  object        \n",
      " 12  marital status                 10910 non-null  object        \n",
      " 13  monthly premium auto           10910 non-null  int64         \n",
      " 14  months since last claim        10277 non-null  float64       \n",
      " 15  months since policy inception  10910 non-null  int64         \n",
      " 16  number of open complaints      10277 non-null  float64       \n",
      " 17  number of policies             10910 non-null  int64         \n",
      " 18  policy type                    10910 non-null  object        \n",
      " 19  policy                         10910 non-null  object        \n",
      " 20  renew offer type               10910 non-null  object        \n",
      " 21  sales channel                  10910 non-null  object        \n",
      " 22  total claim amount             10910 non-null  float64       \n",
      " 23  vehicle class                  10288 non-null  object        \n",
      " 24  vehicle size                   10288 non-null  object        \n",
      " 25  vehicle type                   5428 non-null   object        \n",
      "dtypes: datetime64[ns](1), float64(4), int64(5), object(16)\n",
      "memory usage: 2.2+ MB\n"
     ]
    }
   ],
   "source": [
    "#3) Which columns are numerical? Which columns are categorical?\n",
    "\n",
    "marketing_customer_analysis.info()"
   ]
  },
  {
   "cell_type": "code",
   "execution_count": 11,
   "id": "67586cd2",
   "metadata": {},
   "outputs": [
    {
     "name": "stdout",
     "output_type": "stream",
     "text": [
      "unnamed: 0                          0\n",
      "customer                            0\n",
      "state                             631\n",
      "customer lifetime value             0\n",
      "response                          631\n",
      "coverage                            0\n",
      "education                           0\n",
      "effective to date                   0\n",
      "employmentstatus                    0\n",
      "gender                              0\n",
      "income                              0\n",
      "location code                       0\n",
      "marital status                      0\n",
      "monthly premium auto                0\n",
      "months since last claim           633\n",
      "months since policy inception       0\n",
      "number of open complaints         633\n",
      "number of policies                  0\n",
      "policy type                         0\n",
      "policy                              0\n",
      "renew offer type                    0\n",
      "sales channel                       0\n",
      "total claim amount                  0\n",
      "vehicle class                     622\n",
      "vehicle size                      622\n",
      "vehicle type                     5482\n",
      "dtype: int64\n"
     ]
    }
   ],
   "source": [
    "#4) Check and deal with NaN values.\n",
    "\n",
    "#measure the sum of NaN values with the function: print(df.isna().sum())\n",
    "print(marketing_customer_analysis.isna().sum())"
   ]
  },
  {
   "cell_type": "code",
   "execution_count": 12,
   "id": "9fdd6f0d",
   "metadata": {},
   "outputs": [
    {
     "data": {
      "text/plain": [
       "(10910, 26)"
      ]
     },
     "execution_count": 12,
     "metadata": {},
     "output_type": "execute_result"
    }
   ],
   "source": [
    "marketing_customer_analysis.shape"
   ]
  },
  {
   "cell_type": "code",
   "execution_count": 13,
   "id": "4cda82ac",
   "metadata": {},
   "outputs": [
    {
     "data": {
      "text/html": [
       "<div>\n",
       "<style scoped>\n",
       "    .dataframe tbody tr th:only-of-type {\n",
       "        vertical-align: middle;\n",
       "    }\n",
       "\n",
       "    .dataframe tbody tr th {\n",
       "        vertical-align: top;\n",
       "    }\n",
       "\n",
       "    .dataframe thead th {\n",
       "        text-align: right;\n",
       "    }\n",
       "</style>\n",
       "<table border=\"1\" class=\"dataframe\">\n",
       "  <thead>\n",
       "    <tr style=\"text-align: right;\">\n",
       "      <th></th>\n",
       "      <th>unnamed: 0</th>\n",
       "      <th>customer</th>\n",
       "      <th>state</th>\n",
       "      <th>customer lifetime value</th>\n",
       "      <th>response</th>\n",
       "      <th>coverage</th>\n",
       "      <th>education</th>\n",
       "      <th>effective to date</th>\n",
       "      <th>employmentstatus</th>\n",
       "      <th>gender</th>\n",
       "      <th>...</th>\n",
       "      <th>number of open complaints</th>\n",
       "      <th>number of policies</th>\n",
       "      <th>policy type</th>\n",
       "      <th>policy</th>\n",
       "      <th>renew offer type</th>\n",
       "      <th>sales channel</th>\n",
       "      <th>total claim amount</th>\n",
       "      <th>vehicle class</th>\n",
       "      <th>vehicle size</th>\n",
       "      <th>vehicle type</th>\n",
       "    </tr>\n",
       "  </thead>\n",
       "  <tbody>\n",
       "    <tr>\n",
       "      <th>0</th>\n",
       "      <td>0</td>\n",
       "      <td>DK49336</td>\n",
       "      <td>Arizona</td>\n",
       "      <td>4809.216960</td>\n",
       "      <td>No</td>\n",
       "      <td>Basic</td>\n",
       "      <td>College</td>\n",
       "      <td>2011-02-18</td>\n",
       "      <td>Employed</td>\n",
       "      <td>M</td>\n",
       "      <td>...</td>\n",
       "      <td>0.0</td>\n",
       "      <td>9</td>\n",
       "      <td>Corporate Auto</td>\n",
       "      <td>Corporate L3</td>\n",
       "      <td>Offer3</td>\n",
       "      <td>Agent</td>\n",
       "      <td>292.800000</td>\n",
       "      <td>Four-Door Car</td>\n",
       "      <td>Medsize</td>\n",
       "      <td>NaN</td>\n",
       "    </tr>\n",
       "    <tr>\n",
       "      <th>1</th>\n",
       "      <td>1</td>\n",
       "      <td>KX64629</td>\n",
       "      <td>California</td>\n",
       "      <td>2228.525238</td>\n",
       "      <td>No</td>\n",
       "      <td>Basic</td>\n",
       "      <td>College</td>\n",
       "      <td>2011-01-18</td>\n",
       "      <td>Unemployed</td>\n",
       "      <td>F</td>\n",
       "      <td>...</td>\n",
       "      <td>0.0</td>\n",
       "      <td>1</td>\n",
       "      <td>Personal Auto</td>\n",
       "      <td>Personal L3</td>\n",
       "      <td>Offer4</td>\n",
       "      <td>Call Center</td>\n",
       "      <td>744.924331</td>\n",
       "      <td>Four-Door Car</td>\n",
       "      <td>Medsize</td>\n",
       "      <td>NaN</td>\n",
       "    </tr>\n",
       "    <tr>\n",
       "      <th>2</th>\n",
       "      <td>2</td>\n",
       "      <td>LZ68649</td>\n",
       "      <td>Washington</td>\n",
       "      <td>14947.917300</td>\n",
       "      <td>No</td>\n",
       "      <td>Basic</td>\n",
       "      <td>Bachelor</td>\n",
       "      <td>2011-02-10</td>\n",
       "      <td>Employed</td>\n",
       "      <td>M</td>\n",
       "      <td>...</td>\n",
       "      <td>0.0</td>\n",
       "      <td>2</td>\n",
       "      <td>Personal Auto</td>\n",
       "      <td>Personal L3</td>\n",
       "      <td>Offer3</td>\n",
       "      <td>Call Center</td>\n",
       "      <td>480.000000</td>\n",
       "      <td>SUV</td>\n",
       "      <td>Medsize</td>\n",
       "      <td>A</td>\n",
       "    </tr>\n",
       "    <tr>\n",
       "      <th>3</th>\n",
       "      <td>3</td>\n",
       "      <td>XL78013</td>\n",
       "      <td>Oregon</td>\n",
       "      <td>22332.439460</td>\n",
       "      <td>Yes</td>\n",
       "      <td>Extended</td>\n",
       "      <td>College</td>\n",
       "      <td>2011-01-11</td>\n",
       "      <td>Employed</td>\n",
       "      <td>M</td>\n",
       "      <td>...</td>\n",
       "      <td>0.0</td>\n",
       "      <td>2</td>\n",
       "      <td>Corporate Auto</td>\n",
       "      <td>Corporate L3</td>\n",
       "      <td>Offer2</td>\n",
       "      <td>Branch</td>\n",
       "      <td>484.013411</td>\n",
       "      <td>Four-Door Car</td>\n",
       "      <td>Medsize</td>\n",
       "      <td>A</td>\n",
       "    </tr>\n",
       "    <tr>\n",
       "      <th>4</th>\n",
       "      <td>4</td>\n",
       "      <td>QA50777</td>\n",
       "      <td>Oregon</td>\n",
       "      <td>9025.067525</td>\n",
       "      <td>No</td>\n",
       "      <td>Premium</td>\n",
       "      <td>Bachelor</td>\n",
       "      <td>2011-01-17</td>\n",
       "      <td>Medical Leave</td>\n",
       "      <td>F</td>\n",
       "      <td>...</td>\n",
       "      <td>NaN</td>\n",
       "      <td>7</td>\n",
       "      <td>Personal Auto</td>\n",
       "      <td>Personal L2</td>\n",
       "      <td>Offer1</td>\n",
       "      <td>Branch</td>\n",
       "      <td>707.925645</td>\n",
       "      <td>Four-Door Car</td>\n",
       "      <td>Medsize</td>\n",
       "      <td>NaN</td>\n",
       "    </tr>\n",
       "  </tbody>\n",
       "</table>\n",
       "<p>5 rows × 26 columns</p>\n",
       "</div>"
      ],
      "text/plain": [
       "   unnamed: 0 customer       state  customer lifetime value response  \\\n",
       "0           0  DK49336     Arizona              4809.216960       No   \n",
       "1           1  KX64629  California              2228.525238       No   \n",
       "2           2  LZ68649  Washington             14947.917300       No   \n",
       "3           3  XL78013      Oregon             22332.439460      Yes   \n",
       "4           4  QA50777      Oregon              9025.067525       No   \n",
       "\n",
       "   coverage education effective to date employmentstatus gender  ...  \\\n",
       "0     Basic   College        2011-02-18         Employed      M  ...   \n",
       "1     Basic   College        2011-01-18       Unemployed      F  ...   \n",
       "2     Basic  Bachelor        2011-02-10         Employed      M  ...   \n",
       "3  Extended   College        2011-01-11         Employed      M  ...   \n",
       "4   Premium  Bachelor        2011-01-17    Medical Leave      F  ...   \n",
       "\n",
       "   number of open complaints number of policies     policy type        policy  \\\n",
       "0                        0.0                  9  Corporate Auto  Corporate L3   \n",
       "1                        0.0                  1   Personal Auto   Personal L3   \n",
       "2                        0.0                  2   Personal Auto   Personal L3   \n",
       "3                        0.0                  2  Corporate Auto  Corporate L3   \n",
       "4                        NaN                  7   Personal Auto   Personal L2   \n",
       "\n",
       "   renew offer type  sales channel  total claim amount  vehicle class  \\\n",
       "0            Offer3          Agent          292.800000  Four-Door Car   \n",
       "1            Offer4    Call Center          744.924331  Four-Door Car   \n",
       "2            Offer3    Call Center          480.000000            SUV   \n",
       "3            Offer2         Branch          484.013411  Four-Door Car   \n",
       "4            Offer1         Branch          707.925645  Four-Door Car   \n",
       "\n",
       "  vehicle size vehicle type  \n",
       "0      Medsize          NaN  \n",
       "1      Medsize          NaN  \n",
       "2      Medsize            A  \n",
       "3      Medsize            A  \n",
       "4      Medsize          NaN  \n",
       "\n",
       "[5 rows x 26 columns]"
      ]
     },
     "execution_count": 13,
     "metadata": {},
     "output_type": "execute_result"
    }
   ],
   "source": [
    "marketing_customer_analysis.head()"
   ]
  },
  {
   "cell_type": "code",
   "execution_count": 14,
   "id": "89e30d41",
   "metadata": {},
   "outputs": [
    {
     "data": {
      "text/plain": [
       "'state'"
      ]
     },
     "metadata": {},
     "output_type": "display_data"
    },
    {
     "data": {
      "text/plain": [
       "array(['Arizona', 'California', 'Washington', 'Oregon', nan, 'Nevada'],\n",
       "      dtype=object)"
      ]
     },
     "metadata": {},
     "output_type": "display_data"
    },
    {
     "data": {
      "text/plain": [
       "'response'"
      ]
     },
     "metadata": {},
     "output_type": "display_data"
    },
    {
     "data": {
      "text/plain": [
       "array(['No', 'Yes', nan], dtype=object)"
      ]
     },
     "metadata": {},
     "output_type": "display_data"
    }
   ],
   "source": [
    "display('state', marketing_customer_analysis['state'].unique())\n",
    "display('response',marketing_customer_analysis['response'].unique())"
   ]
  },
  {
   "cell_type": "code",
   "execution_count": 15,
   "id": "30042eaa",
   "metadata": {},
   "outputs": [
    {
     "name": "stdout",
     "output_type": "stream",
     "text": [
      "months since last claim stats:\n"
     ]
    },
    {
     "data": {
      "text/plain": [
       "count    10277.000000\n",
       "mean        15.149071\n",
       "std         10.080349\n",
       "min          0.000000\n",
       "25%          6.000000\n",
       "50%         14.000000\n",
       "75%         23.000000\n",
       "max         35.000000\n",
       "Name: months since last claim, dtype: float64"
      ]
     },
     "metadata": {},
     "output_type": "display_data"
    },
    {
     "name": "stdout",
     "output_type": "stream",
     "text": [
      "NaN  633\n",
      "NaN / Total:  6.16 %\n"
     ]
    }
   ],
   "source": [
    "#Desition for numerical values. Stats Description. \n",
    "\n",
    "#' months since last claim stats:' \n",
    "print('months since last claim stats:')\n",
    "display(marketing_customer_analysis['months since last claim'].describe())\n",
    "print(\"NaN \", marketing_customer_analysis['months since last claim'].isna().sum())\n",
    "print(\"NaN / Total: \",round(marketing_customer_analysis['months since last claim'].isna().sum()/marketing_customer_analysis['months since last claim'].count()*100,2),\"%\")"
   ]
  },
  {
   "cell_type": "code",
   "execution_count": 16,
   "id": "61f3bbc8",
   "metadata": {},
   "outputs": [],
   "source": [
    "# in this case because the Std is relatively high, is not recomendable to replace with the mean or mode values. Other aproach that is not jet teach should be applied, like interpolation or regression. For This excercie i will apply mean. \n",
    "\n",
    "mean_mslc = marketing_customer_analysis['months since last claim'].mean()\n",
    "\n",
    "marketing_customer_analysis['months since last claim'] = marketing_customer_analysis['months since last claim'].fillna(mean_mslc)    "
   ]
  },
  {
   "cell_type": "code",
   "execution_count": 17,
   "id": "72d751c8",
   "metadata": {},
   "outputs": [
    {
     "data": {
      "text/plain": [
       "0"
      ]
     },
     "execution_count": 17,
     "metadata": {},
     "output_type": "execute_result"
    }
   ],
   "source": [
    "marketing_customer_analysis['months since last claim'].isna().sum()"
   ]
  },
  {
   "cell_type": "code",
   "execution_count": 18,
   "id": "a5b55a33",
   "metadata": {},
   "outputs": [
    {
     "name": "stdout",
     "output_type": "stream",
     "text": [
      "number of open complaints:\n"
     ]
    },
    {
     "data": {
      "text/plain": [
       "count    10277.000000\n",
       "mean         0.384256\n",
       "std          0.912457\n",
       "min          0.000000\n",
       "25%          0.000000\n",
       "50%          0.000000\n",
       "75%          0.000000\n",
       "max          5.000000\n",
       "Name: number of open complaints, dtype: float64"
      ]
     },
     "metadata": {},
     "output_type": "display_data"
    },
    {
     "name": "stdout",
     "output_type": "stream",
     "text": [
      "NaN  633\n",
      "NaN / Total:  6.16 %\n"
     ]
    }
   ],
   "source": [
    "# Dealing with: number of open complaints\n",
    "# Stats\n",
    "\n",
    "print('number of open complaints:')\n",
    "display(marketing_customer_analysis['number of open complaints'].describe())\n",
    "print(\"NaN \", marketing_customer_analysis['number of open complaints'].isna().sum())\n",
    "print(\"NaN / Total: \",round(marketing_customer_analysis['number of open complaints'].isna().sum()/marketing_customer_analysis['number of open complaints'].count()*100,2),\"%\")"
   ]
  },
  {
   "cell_type": "code",
   "execution_count": 19,
   "id": "06adc40f",
   "metadata": {},
   "outputs": [
    {
     "data": {
      "text/plain": [
       "0"
      ]
     },
     "execution_count": 19,
     "metadata": {},
     "output_type": "execute_result"
    }
   ],
   "source": [
    "#in this case i will replace the missing values with the value 0, assuming that the NaN represent no Complaints. \n",
    "\n",
    "marketing_customer_analysis['number of open complaints'] = marketing_customer_analysis['number of open complaints'].fillna(0)    \n",
    "\n",
    "\n",
    "marketing_customer_analysis['number of open complaints'].isna().sum()"
   ]
  },
  {
   "cell_type": "code",
   "execution_count": 20,
   "id": "c5379b35",
   "metadata": {},
   "outputs": [
    {
     "name": "stdout",
     "output_type": "stream",
     "text": [
      "unnamed: 0                          0\n",
      "customer                            0\n",
      "state                             631\n",
      "customer lifetime value             0\n",
      "response                          631\n",
      "coverage                            0\n",
      "education                           0\n",
      "effective to date                   0\n",
      "employmentstatus                    0\n",
      "gender                              0\n",
      "income                              0\n",
      "location code                       0\n",
      "marital status                      0\n",
      "monthly premium auto                0\n",
      "months since last claim             0\n",
      "months since policy inception       0\n",
      "number of open complaints           0\n",
      "number of policies                  0\n",
      "policy type                         0\n",
      "policy                              0\n",
      "renew offer type                    0\n",
      "sales channel                       0\n",
      "total claim amount                  0\n",
      "vehicle class                     622\n",
      "vehicle size                      622\n",
      "vehicle type                     5482\n",
      "dtype: int64\n",
      "<class 'pandas.core.frame.DataFrame'>\n",
      "RangeIndex: 10910 entries, 0 to 10909\n",
      "Data columns (total 26 columns):\n",
      " #   Column                         Non-Null Count  Dtype         \n",
      "---  ------                         --------------  -----         \n",
      " 0   unnamed: 0                     10910 non-null  int64         \n",
      " 1   customer                       10910 non-null  object        \n",
      " 2   state                          10279 non-null  object        \n",
      " 3   customer lifetime value        10910 non-null  float64       \n",
      " 4   response                       10279 non-null  object        \n",
      " 5   coverage                       10910 non-null  object        \n",
      " 6   education                      10910 non-null  object        \n",
      " 7   effective to date              10910 non-null  datetime64[ns]\n",
      " 8   employmentstatus               10910 non-null  object        \n",
      " 9   gender                         10910 non-null  object        \n",
      " 10  income                         10910 non-null  int64         \n",
      " 11  location code                  10910 non-null  object        \n",
      " 12  marital status                 10910 non-null  object        \n",
      " 13  monthly premium auto           10910 non-null  int64         \n",
      " 14  months since last claim        10910 non-null  float64       \n",
      " 15  months since policy inception  10910 non-null  int64         \n",
      " 16  number of open complaints      10910 non-null  float64       \n",
      " 17  number of policies             10910 non-null  int64         \n",
      " 18  policy type                    10910 non-null  object        \n",
      " 19  policy                         10910 non-null  object        \n",
      " 20  renew offer type               10910 non-null  object        \n",
      " 21  sales channel                  10910 non-null  object        \n",
      " 22  total claim amount             10910 non-null  float64       \n",
      " 23  vehicle class                  10288 non-null  object        \n",
      " 24  vehicle size                   10288 non-null  object        \n",
      " 25  vehicle type                   5428 non-null   object        \n",
      "dtypes: datetime64[ns](1), float64(4), int64(5), object(16)\n",
      "memory usage: 2.2+ MB\n"
     ]
    },
    {
     "data": {
      "text/plain": [
       "None"
      ]
     },
     "metadata": {},
     "output_type": "display_data"
    }
   ],
   "source": [
    "print(marketing_customer_analysis.isna().sum())\n",
    "display(marketing_customer_analysis.info())"
   ]
  },
  {
   "cell_type": "code",
   "execution_count": 21,
   "id": "999380bb",
   "metadata": {},
   "outputs": [
    {
     "data": {
      "text/plain": [
       "'response'"
      ]
     },
     "metadata": {},
     "output_type": "display_data"
    },
    {
     "data": {
      "text/plain": [
       "array(['No', 'Yes', nan], dtype=object)"
      ]
     },
     "metadata": {},
     "output_type": "display_data"
    }
   ],
   "source": [
    "# Now i just have \"object\" columns types to replace\n",
    "\n",
    "# Dealing with 'Response': \n",
    "\n",
    "display('response',marketing_customer_analysis['response'].unique())"
   ]
  },
  {
   "cell_type": "code",
   "execution_count": 22,
   "id": "9725ef07",
   "metadata": {},
   "outputs": [
    {
     "data": {
      "text/plain": [
       "count     10279\n",
       "unique        2\n",
       "top          No\n",
       "freq       8813\n",
       "Name: response, dtype: object"
      ]
     },
     "metadata": {},
     "output_type": "display_data"
    }
   ],
   "source": [
    "marketing_customer_analysis['response'].mode()\n",
    "display(marketing_customer_analysis['response'].describe())"
   ]
  },
  {
   "cell_type": "code",
   "execution_count": 23,
   "id": "cde02713",
   "metadata": {},
   "outputs": [
    {
     "data": {
      "text/plain": [
       "0"
      ]
     },
     "execution_count": 23,
     "metadata": {},
     "output_type": "execute_result"
    }
   ],
   "source": [
    "# In this case i will replace NaN for the Mode that is No 8813 in 10279 times. \n",
    "\n",
    "marketing_customer_analysis['response'] = marketing_customer_analysis['response'].fillna(\"No\")    \n",
    "\n",
    "\n",
    "marketing_customer_analysis['response'].isna().sum()"
   ]
  },
  {
   "cell_type": "code",
   "execution_count": 24,
   "id": "caec2f72",
   "metadata": {},
   "outputs": [],
   "source": [
    "# Dealing with State: \n",
    "\n",
    "#Is not possible to replace with any value and it feels like an imporatnt value, it will be better to erase the NaN\n",
    "\n",
    "marketing_customer_analysis = marketing_customer_analysis[marketing_customer_analysis['state'].isna()==False]\n"
   ]
  },
  {
   "cell_type": "code",
   "execution_count": 25,
   "id": "ef0d8381",
   "metadata": {},
   "outputs": [
    {
     "name": "stdout",
     "output_type": "stream",
     "text": [
      "<class 'pandas.core.frame.DataFrame'>\n",
      "Int64Index: 10279 entries, 0 to 10908\n",
      "Data columns (total 26 columns):\n",
      " #   Column                         Non-Null Count  Dtype         \n",
      "---  ------                         --------------  -----         \n",
      " 0   unnamed: 0                     10279 non-null  int64         \n",
      " 1   customer                       10279 non-null  object        \n",
      " 2   state                          10279 non-null  object        \n",
      " 3   customer lifetime value        10279 non-null  float64       \n",
      " 4   response                       10279 non-null  object        \n",
      " 5   coverage                       10279 non-null  object        \n",
      " 6   education                      10279 non-null  object        \n",
      " 7   effective to date              10279 non-null  datetime64[ns]\n",
      " 8   employmentstatus               10279 non-null  object        \n",
      " 9   gender                         10279 non-null  object        \n",
      " 10  income                         10279 non-null  int64         \n",
      " 11  location code                  10279 non-null  object        \n",
      " 12  marital status                 10279 non-null  object        \n",
      " 13  monthly premium auto           10279 non-null  int64         \n",
      " 14  months since last claim        10279 non-null  float64       \n",
      " 15  months since policy inception  10279 non-null  int64         \n",
      " 16  number of open complaints      10279 non-null  float64       \n",
      " 17  number of policies             10279 non-null  int64         \n",
      " 18  policy type                    10279 non-null  object        \n",
      " 19  policy                         10279 non-null  object        \n",
      " 20  renew offer type               10279 non-null  object        \n",
      " 21  sales channel                  10279 non-null  object        \n",
      " 22  total claim amount             10279 non-null  float64       \n",
      " 23  vehicle class                  9688 non-null   object        \n",
      " 24  vehicle size                   9688 non-null   object        \n",
      " 25  vehicle type                   5115 non-null   object        \n",
      "dtypes: datetime64[ns](1), float64(4), int64(5), object(16)\n",
      "memory usage: 2.1+ MB\n"
     ]
    },
    {
     "data": {
      "text/plain": [
       "None"
      ]
     },
     "metadata": {},
     "output_type": "display_data"
    }
   ],
   "source": [
    "display(marketing_customer_analysis.info())"
   ]
  },
  {
   "cell_type": "code",
   "execution_count": 26,
   "id": "e2c14051",
   "metadata": {},
   "outputs": [
    {
     "name": "stdout",
     "output_type": "stream",
     "text": [
      "unnamed: 0                          0\n",
      "customer                            0\n",
      "state                               0\n",
      "customer lifetime value             0\n",
      "response                            0\n",
      "coverage                            0\n",
      "education                           0\n",
      "effective to date                   0\n",
      "employmentstatus                    0\n",
      "gender                              0\n",
      "income                              0\n",
      "location code                       0\n",
      "marital status                      0\n",
      "monthly premium auto                0\n",
      "months since last claim             0\n",
      "months since policy inception       0\n",
      "number of open complaints           0\n",
      "number of policies                  0\n",
      "policy type                         0\n",
      "policy                              0\n",
      "renew offer type                    0\n",
      "sales channel                       0\n",
      "total claim amount                  0\n",
      "vehicle class                     591\n",
      "vehicle size                      591\n",
      "vehicle type                     5164\n",
      "dtype: int64\n"
     ]
    }
   ],
   "source": [
    "print(marketing_customer_analysis.isna().sum())"
   ]
  },
  {
   "cell_type": "code",
   "execution_count": 27,
   "id": "4dc09e37",
   "metadata": {},
   "outputs": [
    {
     "data": {
      "text/plain": [
       "'vehicle class'"
      ]
     },
     "metadata": {},
     "output_type": "display_data"
    },
    {
     "data": {
      "text/plain": [
       "array(['Four-Door Car', 'SUV', 'Two-Door Car', 'Sports Car', 'Luxury Car',\n",
       "       'Luxury SUV', nan], dtype=object)"
      ]
     },
     "metadata": {},
     "output_type": "display_data"
    },
    {
     "data": {
      "text/plain": [
       "'vehicle size '"
      ]
     },
     "metadata": {},
     "output_type": "display_data"
    },
    {
     "data": {
      "text/plain": [
       "array(['Medsize', 'Small', 'Large', nan], dtype=object)"
      ]
     },
     "metadata": {},
     "output_type": "display_data"
    }
   ],
   "source": [
    "display('vehicle class',marketing_customer_analysis['vehicle class'].unique())\n",
    "display('vehicle size ',marketing_customer_analysis['vehicle size'].unique())"
   ]
  },
  {
   "cell_type": "code",
   "execution_count": 28,
   "id": "ac54aefb",
   "metadata": {},
   "outputs": [
    {
     "name": "stdout",
     "output_type": "stream",
     "text": [
      "NaN / Total:  6.1 %\n"
     ]
    }
   ],
   "source": [
    "# Dealing with 'vehicle class'\n",
    "print(\"NaN / Total: \",round(marketing_customer_analysis['vehicle class'].isna().sum()/marketing_customer_analysis['vehicle class'].count()*100,2),\"%\")\n"
   ]
  },
  {
   "cell_type": "code",
   "execution_count": 29,
   "id": "59fd877f",
   "metadata": {},
   "outputs": [],
   "source": [
    "#Is not possible to replace with any value, as theu are not so many, 6,1% , it will be better to erase the NaN\n",
    "\n",
    "marketing_customer_analysis = marketing_customer_analysis[marketing_customer_analysis['vehicle class'].isna()==False]\n"
   ]
  },
  {
   "cell_type": "code",
   "execution_count": 30,
   "id": "4e38782b",
   "metadata": {},
   "outputs": [
    {
     "name": "stdout",
     "output_type": "stream",
     "text": [
      "unnamed: 0                          0\n",
      "customer                            0\n",
      "state                               0\n",
      "customer lifetime value             0\n",
      "response                            0\n",
      "coverage                            0\n",
      "education                           0\n",
      "effective to date                   0\n",
      "employmentstatus                    0\n",
      "gender                              0\n",
      "income                              0\n",
      "location code                       0\n",
      "marital status                      0\n",
      "monthly premium auto                0\n",
      "months since last claim             0\n",
      "months since policy inception       0\n",
      "number of open complaints           0\n",
      "number of policies                  0\n",
      "policy type                         0\n",
      "policy                              0\n",
      "renew offer type                    0\n",
      "sales channel                       0\n",
      "total claim amount                  0\n",
      "vehicle class                       0\n",
      "vehicle size                        0\n",
      "vehicle type                     4869\n",
      "dtype: int64\n"
     ]
    }
   ],
   "source": [
    "print(marketing_customer_analysis.isna().sum())"
   ]
  },
  {
   "cell_type": "code",
   "execution_count": 31,
   "id": "874d864d",
   "metadata": {},
   "outputs": [
    {
     "data": {
      "text/plain": [
       "'vehicle type'"
      ]
     },
     "metadata": {},
     "output_type": "display_data"
    },
    {
     "data": {
      "text/plain": [
       "array([nan, 'A'], dtype=object)"
      ]
     },
     "metadata": {},
     "output_type": "display_data"
    }
   ],
   "source": [
    "#Dealing whit 'vehicle type'\n",
    "\n",
    "display('vehicle type',marketing_customer_analysis['vehicle type'].unique())"
   ]
  },
  {
   "cell_type": "code",
   "execution_count": 32,
   "id": "c8203559",
   "metadata": {},
   "outputs": [
    {
     "data": {
      "text/plain": [
       "0"
      ]
     },
     "execution_count": 32,
     "metadata": {},
     "output_type": "execute_result"
    }
   ],
   "source": [
    "#It seems that the only tipe is vahicle type A, i will replace NaN with \"A\" (it will be better to confirm with the people that know about the car types on the cmpany first)\n",
    "\n",
    "\n",
    "marketing_customer_analysis['vehicle type'] = marketing_customer_analysis['vehicle type'].fillna(\"A\")    \n",
    "\n",
    "\n",
    "marketing_customer_analysis['vehicle type'].isna().sum()"
   ]
  },
  {
   "cell_type": "code",
   "execution_count": 33,
   "id": "0a069a7b",
   "metadata": {},
   "outputs": [
    {
     "name": "stdout",
     "output_type": "stream",
     "text": [
      "<class 'pandas.core.frame.DataFrame'>\n",
      "Int64Index: 9688 entries, 0 to 10908\n",
      "Data columns (total 26 columns):\n",
      " #   Column                         Non-Null Count  Dtype         \n",
      "---  ------                         --------------  -----         \n",
      " 0   unnamed: 0                     9688 non-null   int64         \n",
      " 1   customer                       9688 non-null   object        \n",
      " 2   state                          9688 non-null   object        \n",
      " 3   customer lifetime value        9688 non-null   float64       \n",
      " 4   response                       9688 non-null   object        \n",
      " 5   coverage                       9688 non-null   object        \n",
      " 6   education                      9688 non-null   object        \n",
      " 7   effective to date              9688 non-null   datetime64[ns]\n",
      " 8   employmentstatus               9688 non-null   object        \n",
      " 9   gender                         9688 non-null   object        \n",
      " 10  income                         9688 non-null   int64         \n",
      " 11  location code                  9688 non-null   object        \n",
      " 12  marital status                 9688 non-null   object        \n",
      " 13  monthly premium auto           9688 non-null   int64         \n",
      " 14  months since last claim        9688 non-null   float64       \n",
      " 15  months since policy inception  9688 non-null   int64         \n",
      " 16  number of open complaints      9688 non-null   float64       \n",
      " 17  number of policies             9688 non-null   int64         \n",
      " 18  policy type                    9688 non-null   object        \n",
      " 19  policy                         9688 non-null   object        \n",
      " 20  renew offer type               9688 non-null   object        \n",
      " 21  sales channel                  9688 non-null   object        \n",
      " 22  total claim amount             9688 non-null   float64       \n",
      " 23  vehicle class                  9688 non-null   object        \n",
      " 24  vehicle size                   9688 non-null   object        \n",
      " 25  vehicle type                   9688 non-null   object        \n",
      "dtypes: datetime64[ns](1), float64(4), int64(5), object(16)\n",
      "memory usage: 2.0+ MB\n"
     ]
    },
    {
     "data": {
      "text/plain": [
       "None"
      ]
     },
     "metadata": {},
     "output_type": "display_data"
    }
   ],
   "source": [
    "display(marketing_customer_analysis.info())"
   ]
  },
  {
   "cell_type": "code",
   "execution_count": 34,
   "id": "30309990",
   "metadata": {},
   "outputs": [
    {
     "data": {
      "text/html": [
       "<div>\n",
       "<style scoped>\n",
       "    .dataframe tbody tr th:only-of-type {\n",
       "        vertical-align: middle;\n",
       "    }\n",
       "\n",
       "    .dataframe tbody tr th {\n",
       "        vertical-align: top;\n",
       "    }\n",
       "\n",
       "    .dataframe thead th {\n",
       "        text-align: right;\n",
       "    }\n",
       "</style>\n",
       "<table border=\"1\" class=\"dataframe\">\n",
       "  <thead>\n",
       "    <tr style=\"text-align: right;\">\n",
       "      <th></th>\n",
       "      <th>unnamed: 0</th>\n",
       "      <th>customer</th>\n",
       "      <th>state</th>\n",
       "      <th>customer lifetime value</th>\n",
       "      <th>response</th>\n",
       "      <th>coverage</th>\n",
       "      <th>education</th>\n",
       "      <th>effective to date</th>\n",
       "      <th>employmentstatus</th>\n",
       "      <th>gender</th>\n",
       "      <th>...</th>\n",
       "      <th>number of open complaints</th>\n",
       "      <th>number of policies</th>\n",
       "      <th>policy type</th>\n",
       "      <th>policy</th>\n",
       "      <th>renew offer type</th>\n",
       "      <th>sales channel</th>\n",
       "      <th>total claim amount</th>\n",
       "      <th>vehicle class</th>\n",
       "      <th>vehicle size</th>\n",
       "      <th>vehicle type</th>\n",
       "    </tr>\n",
       "  </thead>\n",
       "  <tbody>\n",
       "    <tr>\n",
       "      <th>0</th>\n",
       "      <td>0</td>\n",
       "      <td>DK49336</td>\n",
       "      <td>Arizona</td>\n",
       "      <td>4809.216960</td>\n",
       "      <td>No</td>\n",
       "      <td>Basic</td>\n",
       "      <td>College</td>\n",
       "      <td>2011-02-18</td>\n",
       "      <td>Employed</td>\n",
       "      <td>M</td>\n",
       "      <td>...</td>\n",
       "      <td>0.0</td>\n",
       "      <td>9</td>\n",
       "      <td>Corporate Auto</td>\n",
       "      <td>Corporate L3</td>\n",
       "      <td>Offer3</td>\n",
       "      <td>Agent</td>\n",
       "      <td>292.800000</td>\n",
       "      <td>Four-Door Car</td>\n",
       "      <td>Medsize</td>\n",
       "      <td>A</td>\n",
       "    </tr>\n",
       "    <tr>\n",
       "      <th>1</th>\n",
       "      <td>1</td>\n",
       "      <td>KX64629</td>\n",
       "      <td>California</td>\n",
       "      <td>2228.525238</td>\n",
       "      <td>No</td>\n",
       "      <td>Basic</td>\n",
       "      <td>College</td>\n",
       "      <td>2011-01-18</td>\n",
       "      <td>Unemployed</td>\n",
       "      <td>F</td>\n",
       "      <td>...</td>\n",
       "      <td>0.0</td>\n",
       "      <td>1</td>\n",
       "      <td>Personal Auto</td>\n",
       "      <td>Personal L3</td>\n",
       "      <td>Offer4</td>\n",
       "      <td>Call Center</td>\n",
       "      <td>744.924331</td>\n",
       "      <td>Four-Door Car</td>\n",
       "      <td>Medsize</td>\n",
       "      <td>A</td>\n",
       "    </tr>\n",
       "    <tr>\n",
       "      <th>2</th>\n",
       "      <td>2</td>\n",
       "      <td>LZ68649</td>\n",
       "      <td>Washington</td>\n",
       "      <td>14947.917300</td>\n",
       "      <td>No</td>\n",
       "      <td>Basic</td>\n",
       "      <td>Bachelor</td>\n",
       "      <td>2011-02-10</td>\n",
       "      <td>Employed</td>\n",
       "      <td>M</td>\n",
       "      <td>...</td>\n",
       "      <td>0.0</td>\n",
       "      <td>2</td>\n",
       "      <td>Personal Auto</td>\n",
       "      <td>Personal L3</td>\n",
       "      <td>Offer3</td>\n",
       "      <td>Call Center</td>\n",
       "      <td>480.000000</td>\n",
       "      <td>SUV</td>\n",
       "      <td>Medsize</td>\n",
       "      <td>A</td>\n",
       "    </tr>\n",
       "    <tr>\n",
       "      <th>3</th>\n",
       "      <td>3</td>\n",
       "      <td>XL78013</td>\n",
       "      <td>Oregon</td>\n",
       "      <td>22332.439460</td>\n",
       "      <td>Yes</td>\n",
       "      <td>Extended</td>\n",
       "      <td>College</td>\n",
       "      <td>2011-01-11</td>\n",
       "      <td>Employed</td>\n",
       "      <td>M</td>\n",
       "      <td>...</td>\n",
       "      <td>0.0</td>\n",
       "      <td>2</td>\n",
       "      <td>Corporate Auto</td>\n",
       "      <td>Corporate L3</td>\n",
       "      <td>Offer2</td>\n",
       "      <td>Branch</td>\n",
       "      <td>484.013411</td>\n",
       "      <td>Four-Door Car</td>\n",
       "      <td>Medsize</td>\n",
       "      <td>A</td>\n",
       "    </tr>\n",
       "    <tr>\n",
       "      <th>4</th>\n",
       "      <td>4</td>\n",
       "      <td>QA50777</td>\n",
       "      <td>Oregon</td>\n",
       "      <td>9025.067525</td>\n",
       "      <td>No</td>\n",
       "      <td>Premium</td>\n",
       "      <td>Bachelor</td>\n",
       "      <td>2011-01-17</td>\n",
       "      <td>Medical Leave</td>\n",
       "      <td>F</td>\n",
       "      <td>...</td>\n",
       "      <td>0.0</td>\n",
       "      <td>7</td>\n",
       "      <td>Personal Auto</td>\n",
       "      <td>Personal L2</td>\n",
       "      <td>Offer1</td>\n",
       "      <td>Branch</td>\n",
       "      <td>707.925645</td>\n",
       "      <td>Four-Door Car</td>\n",
       "      <td>Medsize</td>\n",
       "      <td>A</td>\n",
       "    </tr>\n",
       "  </tbody>\n",
       "</table>\n",
       "<p>5 rows × 26 columns</p>\n",
       "</div>"
      ],
      "text/plain": [
       "   unnamed: 0 customer       state  customer lifetime value response  \\\n",
       "0           0  DK49336     Arizona              4809.216960       No   \n",
       "1           1  KX64629  California              2228.525238       No   \n",
       "2           2  LZ68649  Washington             14947.917300       No   \n",
       "3           3  XL78013      Oregon             22332.439460      Yes   \n",
       "4           4  QA50777      Oregon              9025.067525       No   \n",
       "\n",
       "   coverage education effective to date employmentstatus gender  ...  \\\n",
       "0     Basic   College        2011-02-18         Employed      M  ...   \n",
       "1     Basic   College        2011-01-18       Unemployed      F  ...   \n",
       "2     Basic  Bachelor        2011-02-10         Employed      M  ...   \n",
       "3  Extended   College        2011-01-11         Employed      M  ...   \n",
       "4   Premium  Bachelor        2011-01-17    Medical Leave      F  ...   \n",
       "\n",
       "   number of open complaints number of policies     policy type        policy  \\\n",
       "0                        0.0                  9  Corporate Auto  Corporate L3   \n",
       "1                        0.0                  1   Personal Auto   Personal L3   \n",
       "2                        0.0                  2   Personal Auto   Personal L3   \n",
       "3                        0.0                  2  Corporate Auto  Corporate L3   \n",
       "4                        0.0                  7   Personal Auto   Personal L2   \n",
       "\n",
       "   renew offer type  sales channel  total claim amount  vehicle class  \\\n",
       "0            Offer3          Agent          292.800000  Four-Door Car   \n",
       "1            Offer4    Call Center          744.924331  Four-Door Car   \n",
       "2            Offer3    Call Center          480.000000            SUV   \n",
       "3            Offer2         Branch          484.013411  Four-Door Car   \n",
       "4            Offer1         Branch          707.925645  Four-Door Car   \n",
       "\n",
       "  vehicle size vehicle type  \n",
       "0      Medsize            A  \n",
       "1      Medsize            A  \n",
       "2      Medsize            A  \n",
       "3      Medsize            A  \n",
       "4      Medsize            A  \n",
       "\n",
       "[5 rows x 26 columns]"
      ]
     },
     "execution_count": 34,
     "metadata": {},
     "output_type": "execute_result"
    }
   ],
   "source": [
    "marketing_customer_analysis.head()"
   ]
  },
  {
   "cell_type": "code",
   "execution_count": null,
   "id": "ddc4de21",
   "metadata": {},
   "outputs": [],
   "source": []
  },
  {
   "cell_type": "code",
   "execution_count": 35,
   "id": "a1484b28",
   "metadata": {},
   "outputs": [],
   "source": [
    "#5) Datetime format - Extract the months from the dataset and store in a separate column. Then filter the data to show only the information for the first quarter , ie. January, February and March. Hint: If data from March does not exist, consider only January and February."
   ]
  },
  {
   "cell_type": "code",
   "execution_count": 36,
   "id": "c467cd30",
   "metadata": {},
   "outputs": [
    {
     "data": {
      "text/html": [
       "<div>\n",
       "<style scoped>\n",
       "    .dataframe tbody tr th:only-of-type {\n",
       "        vertical-align: middle;\n",
       "    }\n",
       "\n",
       "    .dataframe tbody tr th {\n",
       "        vertical-align: top;\n",
       "    }\n",
       "\n",
       "    .dataframe thead th {\n",
       "        text-align: right;\n",
       "    }\n",
       "</style>\n",
       "<table border=\"1\" class=\"dataframe\">\n",
       "  <thead>\n",
       "    <tr style=\"text-align: right;\">\n",
       "      <th></th>\n",
       "      <th>unnamed: 0</th>\n",
       "      <th>customer</th>\n",
       "      <th>state</th>\n",
       "      <th>customer lifetime value</th>\n",
       "      <th>response</th>\n",
       "      <th>coverage</th>\n",
       "      <th>education</th>\n",
       "      <th>effective to date</th>\n",
       "      <th>employmentstatus</th>\n",
       "      <th>gender</th>\n",
       "      <th>...</th>\n",
       "      <th>number of policies</th>\n",
       "      <th>policy type</th>\n",
       "      <th>policy</th>\n",
       "      <th>renew offer type</th>\n",
       "      <th>sales channel</th>\n",
       "      <th>total claim amount</th>\n",
       "      <th>vehicle class</th>\n",
       "      <th>vehicle size</th>\n",
       "      <th>vehicle type</th>\n",
       "      <th>month</th>\n",
       "    </tr>\n",
       "  </thead>\n",
       "  <tbody>\n",
       "    <tr>\n",
       "      <th>0</th>\n",
       "      <td>0</td>\n",
       "      <td>DK49336</td>\n",
       "      <td>Arizona</td>\n",
       "      <td>4809.216960</td>\n",
       "      <td>No</td>\n",
       "      <td>Basic</td>\n",
       "      <td>College</td>\n",
       "      <td>2011-02-18</td>\n",
       "      <td>Employed</td>\n",
       "      <td>M</td>\n",
       "      <td>...</td>\n",
       "      <td>9</td>\n",
       "      <td>Corporate Auto</td>\n",
       "      <td>Corporate L3</td>\n",
       "      <td>Offer3</td>\n",
       "      <td>Agent</td>\n",
       "      <td>292.800000</td>\n",
       "      <td>Four-Door Car</td>\n",
       "      <td>Medsize</td>\n",
       "      <td>A</td>\n",
       "      <td>February</td>\n",
       "    </tr>\n",
       "    <tr>\n",
       "      <th>1</th>\n",
       "      <td>1</td>\n",
       "      <td>KX64629</td>\n",
       "      <td>California</td>\n",
       "      <td>2228.525238</td>\n",
       "      <td>No</td>\n",
       "      <td>Basic</td>\n",
       "      <td>College</td>\n",
       "      <td>2011-01-18</td>\n",
       "      <td>Unemployed</td>\n",
       "      <td>F</td>\n",
       "      <td>...</td>\n",
       "      <td>1</td>\n",
       "      <td>Personal Auto</td>\n",
       "      <td>Personal L3</td>\n",
       "      <td>Offer4</td>\n",
       "      <td>Call Center</td>\n",
       "      <td>744.924331</td>\n",
       "      <td>Four-Door Car</td>\n",
       "      <td>Medsize</td>\n",
       "      <td>A</td>\n",
       "      <td>January</td>\n",
       "    </tr>\n",
       "    <tr>\n",
       "      <th>2</th>\n",
       "      <td>2</td>\n",
       "      <td>LZ68649</td>\n",
       "      <td>Washington</td>\n",
       "      <td>14947.917300</td>\n",
       "      <td>No</td>\n",
       "      <td>Basic</td>\n",
       "      <td>Bachelor</td>\n",
       "      <td>2011-02-10</td>\n",
       "      <td>Employed</td>\n",
       "      <td>M</td>\n",
       "      <td>...</td>\n",
       "      <td>2</td>\n",
       "      <td>Personal Auto</td>\n",
       "      <td>Personal L3</td>\n",
       "      <td>Offer3</td>\n",
       "      <td>Call Center</td>\n",
       "      <td>480.000000</td>\n",
       "      <td>SUV</td>\n",
       "      <td>Medsize</td>\n",
       "      <td>A</td>\n",
       "      <td>February</td>\n",
       "    </tr>\n",
       "    <tr>\n",
       "      <th>3</th>\n",
       "      <td>3</td>\n",
       "      <td>XL78013</td>\n",
       "      <td>Oregon</td>\n",
       "      <td>22332.439460</td>\n",
       "      <td>Yes</td>\n",
       "      <td>Extended</td>\n",
       "      <td>College</td>\n",
       "      <td>2011-01-11</td>\n",
       "      <td>Employed</td>\n",
       "      <td>M</td>\n",
       "      <td>...</td>\n",
       "      <td>2</td>\n",
       "      <td>Corporate Auto</td>\n",
       "      <td>Corporate L3</td>\n",
       "      <td>Offer2</td>\n",
       "      <td>Branch</td>\n",
       "      <td>484.013411</td>\n",
       "      <td>Four-Door Car</td>\n",
       "      <td>Medsize</td>\n",
       "      <td>A</td>\n",
       "      <td>January</td>\n",
       "    </tr>\n",
       "    <tr>\n",
       "      <th>4</th>\n",
       "      <td>4</td>\n",
       "      <td>QA50777</td>\n",
       "      <td>Oregon</td>\n",
       "      <td>9025.067525</td>\n",
       "      <td>No</td>\n",
       "      <td>Premium</td>\n",
       "      <td>Bachelor</td>\n",
       "      <td>2011-01-17</td>\n",
       "      <td>Medical Leave</td>\n",
       "      <td>F</td>\n",
       "      <td>...</td>\n",
       "      <td>7</td>\n",
       "      <td>Personal Auto</td>\n",
       "      <td>Personal L2</td>\n",
       "      <td>Offer1</td>\n",
       "      <td>Branch</td>\n",
       "      <td>707.925645</td>\n",
       "      <td>Four-Door Car</td>\n",
       "      <td>Medsize</td>\n",
       "      <td>A</td>\n",
       "      <td>January</td>\n",
       "    </tr>\n",
       "  </tbody>\n",
       "</table>\n",
       "<p>5 rows × 27 columns</p>\n",
       "</div>"
      ],
      "text/plain": [
       "   unnamed: 0 customer       state  customer lifetime value response  \\\n",
       "0           0  DK49336     Arizona              4809.216960       No   \n",
       "1           1  KX64629  California              2228.525238       No   \n",
       "2           2  LZ68649  Washington             14947.917300       No   \n",
       "3           3  XL78013      Oregon             22332.439460      Yes   \n",
       "4           4  QA50777      Oregon              9025.067525       No   \n",
       "\n",
       "   coverage education effective to date employmentstatus gender  ...  \\\n",
       "0     Basic   College        2011-02-18         Employed      M  ...   \n",
       "1     Basic   College        2011-01-18       Unemployed      F  ...   \n",
       "2     Basic  Bachelor        2011-02-10         Employed      M  ...   \n",
       "3  Extended   College        2011-01-11         Employed      M  ...   \n",
       "4   Premium  Bachelor        2011-01-17    Medical Leave      F  ...   \n",
       "\n",
       "   number of policies     policy type        policy  renew offer type  \\\n",
       "0                   9  Corporate Auto  Corporate L3            Offer3   \n",
       "1                   1   Personal Auto   Personal L3            Offer4   \n",
       "2                   2   Personal Auto   Personal L3            Offer3   \n",
       "3                   2  Corporate Auto  Corporate L3            Offer2   \n",
       "4                   7   Personal Auto   Personal L2            Offer1   \n",
       "\n",
       "   sales channel  total claim amount  vehicle class  vehicle size  \\\n",
       "0          Agent          292.800000  Four-Door Car       Medsize   \n",
       "1    Call Center          744.924331  Four-Door Car       Medsize   \n",
       "2    Call Center          480.000000            SUV       Medsize   \n",
       "3         Branch          484.013411  Four-Door Car       Medsize   \n",
       "4         Branch          707.925645  Four-Door Car       Medsize   \n",
       "\n",
       "  vehicle type     month  \n",
       "0            A  February  \n",
       "1            A   January  \n",
       "2            A  February  \n",
       "3            A   January  \n",
       "4            A   January  \n",
       "\n",
       "[5 rows x 27 columns]"
      ]
     },
     "execution_count": 36,
     "metadata": {},
     "output_type": "execute_result"
    }
   ],
   "source": [
    "marketing_customer_analysis['month'] = marketing_customer_analysis['effective to date'].dt.month_name()\n",
    "\n",
    "marketing_customer_analysis.head()\n"
   ]
  },
  {
   "cell_type": "code",
   "execution_count": 37,
   "id": "aac5efc8",
   "metadata": {},
   "outputs": [
    {
     "data": {
      "text/plain": [
       "array(['February', 'January'], dtype=object)"
      ]
     },
     "execution_count": 37,
     "metadata": {},
     "output_type": "execute_result"
    }
   ],
   "source": [
    "marketing_customer_analysis['month'].unique()"
   ]
  },
  {
   "cell_type": "code",
   "execution_count": 38,
   "id": "d0bc4f0e",
   "metadata": {},
   "outputs": [],
   "source": [
    "# In this case the filter of the first quarter is not really necesary because all the dates are Between: January and March. \n",
    "#If anyway i would have to do it i will do it like this:"
   ]
  },
  {
   "cell_type": "code",
   "execution_count": 39,
   "id": "1d029d95",
   "metadata": {},
   "outputs": [
    {
     "data": {
      "text/html": [
       "<div>\n",
       "<style scoped>\n",
       "    .dataframe tbody tr th:only-of-type {\n",
       "        vertical-align: middle;\n",
       "    }\n",
       "\n",
       "    .dataframe tbody tr th {\n",
       "        vertical-align: top;\n",
       "    }\n",
       "\n",
       "    .dataframe thead th {\n",
       "        text-align: right;\n",
       "    }\n",
       "</style>\n",
       "<table border=\"1\" class=\"dataframe\">\n",
       "  <thead>\n",
       "    <tr style=\"text-align: right;\">\n",
       "      <th></th>\n",
       "      <th>unnamed: 0</th>\n",
       "      <th>customer</th>\n",
       "      <th>state</th>\n",
       "      <th>customer lifetime value</th>\n",
       "      <th>response</th>\n",
       "      <th>coverage</th>\n",
       "      <th>education</th>\n",
       "      <th>effective to date</th>\n",
       "      <th>employmentstatus</th>\n",
       "      <th>gender</th>\n",
       "      <th>...</th>\n",
       "      <th>number of policies</th>\n",
       "      <th>policy type</th>\n",
       "      <th>policy</th>\n",
       "      <th>renew offer type</th>\n",
       "      <th>sales channel</th>\n",
       "      <th>total claim amount</th>\n",
       "      <th>vehicle class</th>\n",
       "      <th>vehicle size</th>\n",
       "      <th>vehicle type</th>\n",
       "      <th>month</th>\n",
       "    </tr>\n",
       "  </thead>\n",
       "  <tbody>\n",
       "    <tr>\n",
       "      <th>0</th>\n",
       "      <td>0</td>\n",
       "      <td>DK49336</td>\n",
       "      <td>Arizona</td>\n",
       "      <td>4809.216960</td>\n",
       "      <td>No</td>\n",
       "      <td>Basic</td>\n",
       "      <td>College</td>\n",
       "      <td>2011-02-18</td>\n",
       "      <td>Employed</td>\n",
       "      <td>M</td>\n",
       "      <td>...</td>\n",
       "      <td>9</td>\n",
       "      <td>Corporate Auto</td>\n",
       "      <td>Corporate L3</td>\n",
       "      <td>Offer3</td>\n",
       "      <td>Agent</td>\n",
       "      <td>292.800000</td>\n",
       "      <td>Four-Door Car</td>\n",
       "      <td>Medsize</td>\n",
       "      <td>A</td>\n",
       "      <td>February</td>\n",
       "    </tr>\n",
       "    <tr>\n",
       "      <th>1</th>\n",
       "      <td>1</td>\n",
       "      <td>KX64629</td>\n",
       "      <td>California</td>\n",
       "      <td>2228.525238</td>\n",
       "      <td>No</td>\n",
       "      <td>Basic</td>\n",
       "      <td>College</td>\n",
       "      <td>2011-01-18</td>\n",
       "      <td>Unemployed</td>\n",
       "      <td>F</td>\n",
       "      <td>...</td>\n",
       "      <td>1</td>\n",
       "      <td>Personal Auto</td>\n",
       "      <td>Personal L3</td>\n",
       "      <td>Offer4</td>\n",
       "      <td>Call Center</td>\n",
       "      <td>744.924331</td>\n",
       "      <td>Four-Door Car</td>\n",
       "      <td>Medsize</td>\n",
       "      <td>A</td>\n",
       "      <td>January</td>\n",
       "    </tr>\n",
       "    <tr>\n",
       "      <th>2</th>\n",
       "      <td>2</td>\n",
       "      <td>LZ68649</td>\n",
       "      <td>Washington</td>\n",
       "      <td>14947.917300</td>\n",
       "      <td>No</td>\n",
       "      <td>Basic</td>\n",
       "      <td>Bachelor</td>\n",
       "      <td>2011-02-10</td>\n",
       "      <td>Employed</td>\n",
       "      <td>M</td>\n",
       "      <td>...</td>\n",
       "      <td>2</td>\n",
       "      <td>Personal Auto</td>\n",
       "      <td>Personal L3</td>\n",
       "      <td>Offer3</td>\n",
       "      <td>Call Center</td>\n",
       "      <td>480.000000</td>\n",
       "      <td>SUV</td>\n",
       "      <td>Medsize</td>\n",
       "      <td>A</td>\n",
       "      <td>February</td>\n",
       "    </tr>\n",
       "    <tr>\n",
       "      <th>3</th>\n",
       "      <td>3</td>\n",
       "      <td>XL78013</td>\n",
       "      <td>Oregon</td>\n",
       "      <td>22332.439460</td>\n",
       "      <td>Yes</td>\n",
       "      <td>Extended</td>\n",
       "      <td>College</td>\n",
       "      <td>2011-01-11</td>\n",
       "      <td>Employed</td>\n",
       "      <td>M</td>\n",
       "      <td>...</td>\n",
       "      <td>2</td>\n",
       "      <td>Corporate Auto</td>\n",
       "      <td>Corporate L3</td>\n",
       "      <td>Offer2</td>\n",
       "      <td>Branch</td>\n",
       "      <td>484.013411</td>\n",
       "      <td>Four-Door Car</td>\n",
       "      <td>Medsize</td>\n",
       "      <td>A</td>\n",
       "      <td>January</td>\n",
       "    </tr>\n",
       "    <tr>\n",
       "      <th>4</th>\n",
       "      <td>4</td>\n",
       "      <td>QA50777</td>\n",
       "      <td>Oregon</td>\n",
       "      <td>9025.067525</td>\n",
       "      <td>No</td>\n",
       "      <td>Premium</td>\n",
       "      <td>Bachelor</td>\n",
       "      <td>2011-01-17</td>\n",
       "      <td>Medical Leave</td>\n",
       "      <td>F</td>\n",
       "      <td>...</td>\n",
       "      <td>7</td>\n",
       "      <td>Personal Auto</td>\n",
       "      <td>Personal L2</td>\n",
       "      <td>Offer1</td>\n",
       "      <td>Branch</td>\n",
       "      <td>707.925645</td>\n",
       "      <td>Four-Door Car</td>\n",
       "      <td>Medsize</td>\n",
       "      <td>A</td>\n",
       "      <td>January</td>\n",
       "    </tr>\n",
       "    <tr>\n",
       "      <th>...</th>\n",
       "      <td>...</td>\n",
       "      <td>...</td>\n",
       "      <td>...</td>\n",
       "      <td>...</td>\n",
       "      <td>...</td>\n",
       "      <td>...</td>\n",
       "      <td>...</td>\n",
       "      <td>...</td>\n",
       "      <td>...</td>\n",
       "      <td>...</td>\n",
       "      <td>...</td>\n",
       "      <td>...</td>\n",
       "      <td>...</td>\n",
       "      <td>...</td>\n",
       "      <td>...</td>\n",
       "      <td>...</td>\n",
       "      <td>...</td>\n",
       "      <td>...</td>\n",
       "      <td>...</td>\n",
       "      <td>...</td>\n",
       "      <td>...</td>\n",
       "    </tr>\n",
       "    <tr>\n",
       "      <th>10904</th>\n",
       "      <td>10904</td>\n",
       "      <td>QI63521</td>\n",
       "      <td>Nevada</td>\n",
       "      <td>19228.463620</td>\n",
       "      <td>No</td>\n",
       "      <td>Basic</td>\n",
       "      <td>High School or Below</td>\n",
       "      <td>2011-02-24</td>\n",
       "      <td>Unemployed</td>\n",
       "      <td>M</td>\n",
       "      <td>...</td>\n",
       "      <td>2</td>\n",
       "      <td>Personal Auto</td>\n",
       "      <td>Personal L2</td>\n",
       "      <td>Offer1</td>\n",
       "      <td>Branch</td>\n",
       "      <td>897.600000</td>\n",
       "      <td>Luxury SUV</td>\n",
       "      <td>Medsize</td>\n",
       "      <td>A</td>\n",
       "      <td>February</td>\n",
       "    </tr>\n",
       "    <tr>\n",
       "      <th>10905</th>\n",
       "      <td>10905</td>\n",
       "      <td>FE99816</td>\n",
       "      <td>Nevada</td>\n",
       "      <td>15563.369440</td>\n",
       "      <td>No</td>\n",
       "      <td>Premium</td>\n",
       "      <td>Bachelor</td>\n",
       "      <td>2011-01-19</td>\n",
       "      <td>Unemployed</td>\n",
       "      <td>F</td>\n",
       "      <td>...</td>\n",
       "      <td>7</td>\n",
       "      <td>Personal Auto</td>\n",
       "      <td>Personal L1</td>\n",
       "      <td>Offer3</td>\n",
       "      <td>Web</td>\n",
       "      <td>1214.400000</td>\n",
       "      <td>Luxury Car</td>\n",
       "      <td>Medsize</td>\n",
       "      <td>A</td>\n",
       "      <td>January</td>\n",
       "    </tr>\n",
       "    <tr>\n",
       "      <th>10906</th>\n",
       "      <td>10906</td>\n",
       "      <td>KX53892</td>\n",
       "      <td>Oregon</td>\n",
       "      <td>5259.444853</td>\n",
       "      <td>No</td>\n",
       "      <td>Basic</td>\n",
       "      <td>College</td>\n",
       "      <td>2011-01-06</td>\n",
       "      <td>Employed</td>\n",
       "      <td>F</td>\n",
       "      <td>...</td>\n",
       "      <td>6</td>\n",
       "      <td>Personal Auto</td>\n",
       "      <td>Personal L3</td>\n",
       "      <td>Offer2</td>\n",
       "      <td>Branch</td>\n",
       "      <td>273.018929</td>\n",
       "      <td>Four-Door Car</td>\n",
       "      <td>Medsize</td>\n",
       "      <td>A</td>\n",
       "      <td>January</td>\n",
       "    </tr>\n",
       "    <tr>\n",
       "      <th>10907</th>\n",
       "      <td>10907</td>\n",
       "      <td>TL39050</td>\n",
       "      <td>Arizona</td>\n",
       "      <td>23893.304100</td>\n",
       "      <td>No</td>\n",
       "      <td>Extended</td>\n",
       "      <td>Bachelor</td>\n",
       "      <td>2011-02-06</td>\n",
       "      <td>Employed</td>\n",
       "      <td>F</td>\n",
       "      <td>...</td>\n",
       "      <td>2</td>\n",
       "      <td>Corporate Auto</td>\n",
       "      <td>Corporate L3</td>\n",
       "      <td>Offer1</td>\n",
       "      <td>Web</td>\n",
       "      <td>381.306996</td>\n",
       "      <td>Luxury SUV</td>\n",
       "      <td>Medsize</td>\n",
       "      <td>A</td>\n",
       "      <td>February</td>\n",
       "    </tr>\n",
       "    <tr>\n",
       "      <th>10908</th>\n",
       "      <td>10908</td>\n",
       "      <td>WA60547</td>\n",
       "      <td>California</td>\n",
       "      <td>11971.977650</td>\n",
       "      <td>No</td>\n",
       "      <td>Premium</td>\n",
       "      <td>College</td>\n",
       "      <td>2011-02-13</td>\n",
       "      <td>Employed</td>\n",
       "      <td>F</td>\n",
       "      <td>...</td>\n",
       "      <td>6</td>\n",
       "      <td>Personal Auto</td>\n",
       "      <td>Personal L1</td>\n",
       "      <td>Offer1</td>\n",
       "      <td>Branch</td>\n",
       "      <td>618.288849</td>\n",
       "      <td>SUV</td>\n",
       "      <td>Medsize</td>\n",
       "      <td>A</td>\n",
       "      <td>February</td>\n",
       "    </tr>\n",
       "  </tbody>\n",
       "</table>\n",
       "<p>9688 rows × 27 columns</p>\n",
       "</div>"
      ],
      "text/plain": [
       "       unnamed: 0 customer       state  customer lifetime value response  \\\n",
       "0               0  DK49336     Arizona              4809.216960       No   \n",
       "1               1  KX64629  California              2228.525238       No   \n",
       "2               2  LZ68649  Washington             14947.917300       No   \n",
       "3               3  XL78013      Oregon             22332.439460      Yes   \n",
       "4               4  QA50777      Oregon              9025.067525       No   \n",
       "...           ...      ...         ...                      ...      ...   \n",
       "10904       10904  QI63521      Nevada             19228.463620       No   \n",
       "10905       10905  FE99816      Nevada             15563.369440       No   \n",
       "10906       10906  KX53892      Oregon              5259.444853       No   \n",
       "10907       10907  TL39050     Arizona             23893.304100       No   \n",
       "10908       10908  WA60547  California             11971.977650       No   \n",
       "\n",
       "       coverage             education effective to date employmentstatus  \\\n",
       "0         Basic               College        2011-02-18         Employed   \n",
       "1         Basic               College        2011-01-18       Unemployed   \n",
       "2         Basic              Bachelor        2011-02-10         Employed   \n",
       "3      Extended               College        2011-01-11         Employed   \n",
       "4       Premium              Bachelor        2011-01-17    Medical Leave   \n",
       "...         ...                   ...               ...              ...   \n",
       "10904     Basic  High School or Below        2011-02-24       Unemployed   \n",
       "10905   Premium              Bachelor        2011-01-19       Unemployed   \n",
       "10906     Basic               College        2011-01-06         Employed   \n",
       "10907  Extended              Bachelor        2011-02-06         Employed   \n",
       "10908   Premium               College        2011-02-13         Employed   \n",
       "\n",
       "      gender  ...  number of policies     policy type        policy  \\\n",
       "0          M  ...                   9  Corporate Auto  Corporate L3   \n",
       "1          F  ...                   1   Personal Auto   Personal L3   \n",
       "2          M  ...                   2   Personal Auto   Personal L3   \n",
       "3          M  ...                   2  Corporate Auto  Corporate L3   \n",
       "4          F  ...                   7   Personal Auto   Personal L2   \n",
       "...      ...  ...                 ...             ...           ...   \n",
       "10904      M  ...                   2   Personal Auto   Personal L2   \n",
       "10905      F  ...                   7   Personal Auto   Personal L1   \n",
       "10906      F  ...                   6   Personal Auto   Personal L3   \n",
       "10907      F  ...                   2  Corporate Auto  Corporate L3   \n",
       "10908      F  ...                   6   Personal Auto   Personal L1   \n",
       "\n",
       "       renew offer type  sales channel  total claim amount  vehicle class  \\\n",
       "0                Offer3          Agent          292.800000  Four-Door Car   \n",
       "1                Offer4    Call Center          744.924331  Four-Door Car   \n",
       "2                Offer3    Call Center          480.000000            SUV   \n",
       "3                Offer2         Branch          484.013411  Four-Door Car   \n",
       "4                Offer1         Branch          707.925645  Four-Door Car   \n",
       "...                 ...            ...                 ...            ...   \n",
       "10904            Offer1         Branch          897.600000     Luxury SUV   \n",
       "10905            Offer3            Web         1214.400000     Luxury Car   \n",
       "10906            Offer2         Branch          273.018929  Four-Door Car   \n",
       "10907            Offer1            Web          381.306996     Luxury SUV   \n",
       "10908            Offer1         Branch          618.288849            SUV   \n",
       "\n",
       "       vehicle size vehicle type     month  \n",
       "0           Medsize            A  February  \n",
       "1           Medsize            A   January  \n",
       "2           Medsize            A  February  \n",
       "3           Medsize            A   January  \n",
       "4           Medsize            A   January  \n",
       "...             ...          ...       ...  \n",
       "10904       Medsize            A  February  \n",
       "10905       Medsize            A   January  \n",
       "10906       Medsize            A   January  \n",
       "10907       Medsize            A  February  \n",
       "10908       Medsize            A  February  \n",
       "\n",
       "[9688 rows x 27 columns]"
      ]
     },
     "execution_count": 39,
     "metadata": {},
     "output_type": "execute_result"
    }
   ],
   "source": [
    "marketing_customer_analysis[(marketing_customer_analysis['month'].isin(['January','February','March']))]"
   ]
  },
  {
   "cell_type": "code",
   "execution_count": 40,
   "id": "2d578dfa",
   "metadata": {},
   "outputs": [],
   "source": [
    "#6) BONUS: Put all the previously mentioned data transformations into a function."
   ]
  },
  {
   "cell_type": "code",
   "execution_count": 41,
   "id": "c7d8929d",
   "metadata": {},
   "outputs": [],
   "source": [
    "# Lab Customer Analysis Round 3"
   ]
  },
  {
   "cell_type": "code",
   "execution_count": 42,
   "id": "6e4bbaa3",
   "metadata": {},
   "outputs": [
    {
     "name": "stdout",
     "output_type": "stream",
     "text": [
      "File v2:  (9134, 24)\n",
      "File v1:  (9688, 27)\n",
      "Inicial v1: (10910, 26)\n"
     ]
    }
   ],
   "source": [
    "#new file seems to be differents from the one we use before. so i made a copy of the one before, naming this new as marketing_customer_analysis_v2\n",
    "marketing_customer_analysis_v2 = pd.read_excel('files_for_lab/excel_files/marketing_customer_analysis_v2.xlsx')\n",
    "print(\"File v2: \",marketing_customer_analysis_v2.shape)\n",
    "print(\"File v1: \",marketing_customer_analysis.shape)\n",
    "print(\"Inicial v1: (10910, 26)\")\n",
    "\n",
    "#i will continue working with the inicial file. "
   ]
  },
  {
   "cell_type": "code",
   "execution_count": 43,
   "id": "c246c797",
   "metadata": {},
   "outputs": [
    {
     "name": "stdout",
     "output_type": "stream",
     "text": [
      "<class 'pandas.core.frame.DataFrame'>\n",
      "Int64Index: 9688 entries, 0 to 10908\n",
      "Data columns (total 27 columns):\n",
      " #   Column                         Non-Null Count  Dtype         \n",
      "---  ------                         --------------  -----         \n",
      " 0   unnamed: 0                     9688 non-null   int64         \n",
      " 1   customer                       9688 non-null   object        \n",
      " 2   state                          9688 non-null   object        \n",
      " 3   customer lifetime value        9688 non-null   float64       \n",
      " 4   response                       9688 non-null   object        \n",
      " 5   coverage                       9688 non-null   object        \n",
      " 6   education                      9688 non-null   object        \n",
      " 7   effective to date              9688 non-null   datetime64[ns]\n",
      " 8   employmentstatus               9688 non-null   object        \n",
      " 9   gender                         9688 non-null   object        \n",
      " 10  income                         9688 non-null   int64         \n",
      " 11  location code                  9688 non-null   object        \n",
      " 12  marital status                 9688 non-null   object        \n",
      " 13  monthly premium auto           9688 non-null   int64         \n",
      " 14  months since last claim        9688 non-null   float64       \n",
      " 15  months since policy inception  9688 non-null   int64         \n",
      " 16  number of open complaints      9688 non-null   float64       \n",
      " 17  number of policies             9688 non-null   int64         \n",
      " 18  policy type                    9688 non-null   object        \n",
      " 19  policy                         9688 non-null   object        \n",
      " 20  renew offer type               9688 non-null   object        \n",
      " 21  sales channel                  9688 non-null   object        \n",
      " 22  total claim amount             9688 non-null   float64       \n",
      " 23  vehicle class                  9688 non-null   object        \n",
      " 24  vehicle size                   9688 non-null   object        \n",
      " 25  vehicle type                   9688 non-null   object        \n",
      " 26  month                          9688 non-null   object        \n",
      "dtypes: datetime64[ns](1), float64(4), int64(5), object(17)\n",
      "memory usage: 2.1+ MB\n"
     ]
    },
    {
     "data": {
      "text/plain": [
       "None"
      ]
     },
     "metadata": {},
     "output_type": "display_data"
    },
    {
     "data": {
      "text/html": [
       "<div>\n",
       "<style scoped>\n",
       "    .dataframe tbody tr th:only-of-type {\n",
       "        vertical-align: middle;\n",
       "    }\n",
       "\n",
       "    .dataframe tbody tr th {\n",
       "        vertical-align: top;\n",
       "    }\n",
       "\n",
       "    .dataframe thead th {\n",
       "        text-align: right;\n",
       "    }\n",
       "</style>\n",
       "<table border=\"1\" class=\"dataframe\">\n",
       "  <thead>\n",
       "    <tr style=\"text-align: right;\">\n",
       "      <th></th>\n",
       "      <th>unnamed: 0</th>\n",
       "      <th>customer lifetime value</th>\n",
       "      <th>income</th>\n",
       "      <th>monthly premium auto</th>\n",
       "      <th>months since last claim</th>\n",
       "      <th>months since policy inception</th>\n",
       "      <th>number of open complaints</th>\n",
       "      <th>number of policies</th>\n",
       "      <th>total claim amount</th>\n",
       "    </tr>\n",
       "  </thead>\n",
       "  <tbody>\n",
       "    <tr>\n",
       "      <th>count</th>\n",
       "      <td>9688.000000</td>\n",
       "      <td>9688.000000</td>\n",
       "      <td>9688.000000</td>\n",
       "      <td>9688.000000</td>\n",
       "      <td>9688.000000</td>\n",
       "      <td>9688.000000</td>\n",
       "      <td>9688.000000</td>\n",
       "      <td>9688.000000</td>\n",
       "      <td>9688.000000</td>\n",
       "    </tr>\n",
       "    <tr>\n",
       "      <th>mean</th>\n",
       "      <td>5475.146367</td>\n",
       "      <td>7996.180571</td>\n",
       "      <td>37551.325764</td>\n",
       "      <td>93.276012</td>\n",
       "      <td>15.099978</td>\n",
       "      <td>48.067506</td>\n",
       "      <td>0.362407</td>\n",
       "      <td>2.975330</td>\n",
       "      <td>435.414790</td>\n",
       "    </tr>\n",
       "    <tr>\n",
       "      <th>std</th>\n",
       "      <td>3149.338222</td>\n",
       "      <td>6832.516819</td>\n",
       "      <td>30357.895578</td>\n",
       "      <td>34.401086</td>\n",
       "      <td>9.780979</td>\n",
       "      <td>27.920964</td>\n",
       "      <td>0.888463</td>\n",
       "      <td>2.395177</td>\n",
       "      <td>291.625605</td>\n",
       "    </tr>\n",
       "    <tr>\n",
       "      <th>min</th>\n",
       "      <td>0.000000</td>\n",
       "      <td>1898.007675</td>\n",
       "      <td>0.000000</td>\n",
       "      <td>61.000000</td>\n",
       "      <td>0.000000</td>\n",
       "      <td>0.000000</td>\n",
       "      <td>0.000000</td>\n",
       "      <td>1.000000</td>\n",
       "      <td>0.099007</td>\n",
       "    </tr>\n",
       "    <tr>\n",
       "      <th>25%</th>\n",
       "      <td>2753.750000</td>\n",
       "      <td>4013.921611</td>\n",
       "      <td>0.000000</td>\n",
       "      <td>68.000000</td>\n",
       "      <td>7.000000</td>\n",
       "      <td>24.000000</td>\n",
       "      <td>0.000000</td>\n",
       "      <td>1.000000</td>\n",
       "      <td>272.010666</td>\n",
       "    </tr>\n",
       "    <tr>\n",
       "      <th>50%</th>\n",
       "      <td>5492.500000</td>\n",
       "      <td>5786.493980</td>\n",
       "      <td>33802.500000</td>\n",
       "      <td>83.000000</td>\n",
       "      <td>15.000000</td>\n",
       "      <td>48.000000</td>\n",
       "      <td>0.000000</td>\n",
       "      <td>2.000000</td>\n",
       "      <td>384.000000</td>\n",
       "    </tr>\n",
       "    <tr>\n",
       "      <th>75%</th>\n",
       "      <td>8206.250000</td>\n",
       "      <td>8984.682679</td>\n",
       "      <td>62259.000000</td>\n",
       "      <td>109.000000</td>\n",
       "      <td>23.000000</td>\n",
       "      <td>71.000000</td>\n",
       "      <td>0.000000</td>\n",
       "      <td>4.000000</td>\n",
       "      <td>550.902485</td>\n",
       "    </tr>\n",
       "    <tr>\n",
       "      <th>max</th>\n",
       "      <td>10908.000000</td>\n",
       "      <td>83325.381190</td>\n",
       "      <td>99981.000000</td>\n",
       "      <td>298.000000</td>\n",
       "      <td>35.000000</td>\n",
       "      <td>99.000000</td>\n",
       "      <td>5.000000</td>\n",
       "      <td>9.000000</td>\n",
       "      <td>2893.239678</td>\n",
       "    </tr>\n",
       "  </tbody>\n",
       "</table>\n",
       "</div>"
      ],
      "text/plain": [
       "         unnamed: 0  customer lifetime value        income  \\\n",
       "count   9688.000000              9688.000000   9688.000000   \n",
       "mean    5475.146367              7996.180571  37551.325764   \n",
       "std     3149.338222              6832.516819  30357.895578   \n",
       "min        0.000000              1898.007675      0.000000   \n",
       "25%     2753.750000              4013.921611      0.000000   \n",
       "50%     5492.500000              5786.493980  33802.500000   \n",
       "75%     8206.250000              8984.682679  62259.000000   \n",
       "max    10908.000000             83325.381190  99981.000000   \n",
       "\n",
       "       monthly premium auto  months since last claim  \\\n",
       "count           9688.000000              9688.000000   \n",
       "mean              93.276012                15.099978   \n",
       "std               34.401086                 9.780979   \n",
       "min               61.000000                 0.000000   \n",
       "25%               68.000000                 7.000000   \n",
       "50%               83.000000                15.000000   \n",
       "75%              109.000000                23.000000   \n",
       "max              298.000000                35.000000   \n",
       "\n",
       "       months since policy inception  number of open complaints  \\\n",
       "count                    9688.000000                9688.000000   \n",
       "mean                       48.067506                   0.362407   \n",
       "std                        27.920964                   0.888463   \n",
       "min                         0.000000                   0.000000   \n",
       "25%                        24.000000                   0.000000   \n",
       "50%                        48.000000                   0.000000   \n",
       "75%                        71.000000                   0.000000   \n",
       "max                        99.000000                   5.000000   \n",
       "\n",
       "       number of policies  total claim amount  \n",
       "count         9688.000000         9688.000000  \n",
       "mean             2.975330          435.414790  \n",
       "std              2.395177          291.625605  \n",
       "min              1.000000            0.099007  \n",
       "25%              1.000000          272.010666  \n",
       "50%              2.000000          384.000000  \n",
       "75%              4.000000          550.902485  \n",
       "max              9.000000         2893.239678  "
      ]
     },
     "metadata": {},
     "output_type": "display_data"
    },
    {
     "data": {
      "text/html": [
       "<div>\n",
       "<style scoped>\n",
       "    .dataframe tbody tr th:only-of-type {\n",
       "        vertical-align: middle;\n",
       "    }\n",
       "\n",
       "    .dataframe tbody tr th {\n",
       "        vertical-align: top;\n",
       "    }\n",
       "\n",
       "    .dataframe thead th {\n",
       "        text-align: right;\n",
       "    }\n",
       "</style>\n",
       "<table border=\"1\" class=\"dataframe\">\n",
       "  <thead>\n",
       "    <tr style=\"text-align: right;\">\n",
       "      <th></th>\n",
       "      <th>unnamed: 0</th>\n",
       "      <th>customer</th>\n",
       "      <th>state</th>\n",
       "      <th>customer lifetime value</th>\n",
       "      <th>response</th>\n",
       "      <th>coverage</th>\n",
       "      <th>education</th>\n",
       "      <th>effective to date</th>\n",
       "      <th>employmentstatus</th>\n",
       "      <th>gender</th>\n",
       "      <th>...</th>\n",
       "      <th>number of policies</th>\n",
       "      <th>policy type</th>\n",
       "      <th>policy</th>\n",
       "      <th>renew offer type</th>\n",
       "      <th>sales channel</th>\n",
       "      <th>total claim amount</th>\n",
       "      <th>vehicle class</th>\n",
       "      <th>vehicle size</th>\n",
       "      <th>vehicle type</th>\n",
       "      <th>month</th>\n",
       "    </tr>\n",
       "  </thead>\n",
       "  <tbody>\n",
       "    <tr>\n",
       "      <th>0</th>\n",
       "      <td>0</td>\n",
       "      <td>DK49336</td>\n",
       "      <td>Arizona</td>\n",
       "      <td>4809.216960</td>\n",
       "      <td>No</td>\n",
       "      <td>Basic</td>\n",
       "      <td>College</td>\n",
       "      <td>2011-02-18</td>\n",
       "      <td>Employed</td>\n",
       "      <td>M</td>\n",
       "      <td>...</td>\n",
       "      <td>9</td>\n",
       "      <td>Corporate Auto</td>\n",
       "      <td>Corporate L3</td>\n",
       "      <td>Offer3</td>\n",
       "      <td>Agent</td>\n",
       "      <td>292.800000</td>\n",
       "      <td>Four-Door Car</td>\n",
       "      <td>Medsize</td>\n",
       "      <td>A</td>\n",
       "      <td>February</td>\n",
       "    </tr>\n",
       "    <tr>\n",
       "      <th>1</th>\n",
       "      <td>1</td>\n",
       "      <td>KX64629</td>\n",
       "      <td>California</td>\n",
       "      <td>2228.525238</td>\n",
       "      <td>No</td>\n",
       "      <td>Basic</td>\n",
       "      <td>College</td>\n",
       "      <td>2011-01-18</td>\n",
       "      <td>Unemployed</td>\n",
       "      <td>F</td>\n",
       "      <td>...</td>\n",
       "      <td>1</td>\n",
       "      <td>Personal Auto</td>\n",
       "      <td>Personal L3</td>\n",
       "      <td>Offer4</td>\n",
       "      <td>Call Center</td>\n",
       "      <td>744.924331</td>\n",
       "      <td>Four-Door Car</td>\n",
       "      <td>Medsize</td>\n",
       "      <td>A</td>\n",
       "      <td>January</td>\n",
       "    </tr>\n",
       "    <tr>\n",
       "      <th>2</th>\n",
       "      <td>2</td>\n",
       "      <td>LZ68649</td>\n",
       "      <td>Washington</td>\n",
       "      <td>14947.917300</td>\n",
       "      <td>No</td>\n",
       "      <td>Basic</td>\n",
       "      <td>Bachelor</td>\n",
       "      <td>2011-02-10</td>\n",
       "      <td>Employed</td>\n",
       "      <td>M</td>\n",
       "      <td>...</td>\n",
       "      <td>2</td>\n",
       "      <td>Personal Auto</td>\n",
       "      <td>Personal L3</td>\n",
       "      <td>Offer3</td>\n",
       "      <td>Call Center</td>\n",
       "      <td>480.000000</td>\n",
       "      <td>SUV</td>\n",
       "      <td>Medsize</td>\n",
       "      <td>A</td>\n",
       "      <td>February</td>\n",
       "    </tr>\n",
       "    <tr>\n",
       "      <th>3</th>\n",
       "      <td>3</td>\n",
       "      <td>XL78013</td>\n",
       "      <td>Oregon</td>\n",
       "      <td>22332.439460</td>\n",
       "      <td>Yes</td>\n",
       "      <td>Extended</td>\n",
       "      <td>College</td>\n",
       "      <td>2011-01-11</td>\n",
       "      <td>Employed</td>\n",
       "      <td>M</td>\n",
       "      <td>...</td>\n",
       "      <td>2</td>\n",
       "      <td>Corporate Auto</td>\n",
       "      <td>Corporate L3</td>\n",
       "      <td>Offer2</td>\n",
       "      <td>Branch</td>\n",
       "      <td>484.013411</td>\n",
       "      <td>Four-Door Car</td>\n",
       "      <td>Medsize</td>\n",
       "      <td>A</td>\n",
       "      <td>January</td>\n",
       "    </tr>\n",
       "    <tr>\n",
       "      <th>4</th>\n",
       "      <td>4</td>\n",
       "      <td>QA50777</td>\n",
       "      <td>Oregon</td>\n",
       "      <td>9025.067525</td>\n",
       "      <td>No</td>\n",
       "      <td>Premium</td>\n",
       "      <td>Bachelor</td>\n",
       "      <td>2011-01-17</td>\n",
       "      <td>Medical Leave</td>\n",
       "      <td>F</td>\n",
       "      <td>...</td>\n",
       "      <td>7</td>\n",
       "      <td>Personal Auto</td>\n",
       "      <td>Personal L2</td>\n",
       "      <td>Offer1</td>\n",
       "      <td>Branch</td>\n",
       "      <td>707.925645</td>\n",
       "      <td>Four-Door Car</td>\n",
       "      <td>Medsize</td>\n",
       "      <td>A</td>\n",
       "      <td>January</td>\n",
       "    </tr>\n",
       "  </tbody>\n",
       "</table>\n",
       "<p>5 rows × 27 columns</p>\n",
       "</div>"
      ],
      "text/plain": [
       "   unnamed: 0 customer       state  customer lifetime value response  \\\n",
       "0           0  DK49336     Arizona              4809.216960       No   \n",
       "1           1  KX64629  California              2228.525238       No   \n",
       "2           2  LZ68649  Washington             14947.917300       No   \n",
       "3           3  XL78013      Oregon             22332.439460      Yes   \n",
       "4           4  QA50777      Oregon              9025.067525       No   \n",
       "\n",
       "   coverage education effective to date employmentstatus gender  ...  \\\n",
       "0     Basic   College        2011-02-18         Employed      M  ...   \n",
       "1     Basic   College        2011-01-18       Unemployed      F  ...   \n",
       "2     Basic  Bachelor        2011-02-10         Employed      M  ...   \n",
       "3  Extended   College        2011-01-11         Employed      M  ...   \n",
       "4   Premium  Bachelor        2011-01-17    Medical Leave      F  ...   \n",
       "\n",
       "   number of policies     policy type        policy  renew offer type  \\\n",
       "0                   9  Corporate Auto  Corporate L3            Offer3   \n",
       "1                   1   Personal Auto   Personal L3            Offer4   \n",
       "2                   2   Personal Auto   Personal L3            Offer3   \n",
       "3                   2  Corporate Auto  Corporate L3            Offer2   \n",
       "4                   7   Personal Auto   Personal L2            Offer1   \n",
       "\n",
       "   sales channel  total claim amount  vehicle class  vehicle size  \\\n",
       "0          Agent          292.800000  Four-Door Car       Medsize   \n",
       "1    Call Center          744.924331  Four-Door Car       Medsize   \n",
       "2    Call Center          480.000000            SUV       Medsize   \n",
       "3         Branch          484.013411  Four-Door Car       Medsize   \n",
       "4         Branch          707.925645  Four-Door Car       Medsize   \n",
       "\n",
       "  vehicle type     month  \n",
       "0            A  February  \n",
       "1            A   January  \n",
       "2            A  February  \n",
       "3            A   January  \n",
       "4            A   January  \n",
       "\n",
       "[5 rows x 27 columns]"
      ]
     },
     "metadata": {},
     "output_type": "display_data"
    }
   ],
   "source": [
    "#Show DataFrame info.\n",
    "#Describe DataFrame.\n",
    "\n",
    "display(marketing_customer_analysis.info())\n",
    "display(marketing_customer_analysis.describe())\n",
    "display(marketing_customer_analysis.head())"
   ]
  },
  {
   "cell_type": "code",
   "execution_count": 44,
   "id": "079ccbbf",
   "metadata": {},
   "outputs": [
    {
     "name": "stdout",
     "output_type": "stream",
     "text": [
      "No     8308\n",
      "Yes    1380\n",
      "Name: response, dtype: int64\n"
     ]
    },
    {
     "data": {
      "text/plain": [
       "pandas.core.series.Series"
      ]
     },
     "execution_count": 44,
     "metadata": {},
     "output_type": "execute_result"
    }
   ],
   "source": [
    "#Show a plot of the total number of responses.\n",
    "total_response = marketing_customer_analysis['response'].value_counts()\n",
    "print(total_response)\n",
    "type(total_response)\n"
   ]
  },
  {
   "cell_type": "code",
   "execution_count": 45,
   "id": "a20a13bb",
   "metadata": {},
   "outputs": [
    {
     "data": {
      "image/png": "[encoded data removed]",
      "text/plain": [
       "<Figure size 500x400 with 1 Axes>"
      ]
     },
     "metadata": {},
     "output_type": "display_data"
    },
    {
     "data": {
      "text/plain": [
       "No     8308\n",
       "Yes    1380\n",
       "Name: response, dtype: int64"
      ]
     },
     "metadata": {},
     "output_type": "display_data"
    }
   ],
   "source": [
    "import matplotlib.pyplot as plt\n",
    "\n",
    "total_response = marketing_customer_analysis['response'].value_counts()\n",
    "plt.figure(figsize =(5,4))\n",
    "plt.bar(total_response.index, total_response.values, color=\"m\")\n",
    "plt.xlabel('Response')\n",
    "plt.ylabel('Count')\n",
    "plt.title('Total Response')\n",
    "plt.show()\n",
    "\n",
    "display(total_response)"
   ]
  },
  {
   "cell_type": "code",
   "execution_count": 46,
   "id": "9f011d4b",
   "metadata": {},
   "outputs": [
    {
     "data": {
      "image/png": "[encoded data removed]",
      "text/plain": [
       "<Figure size 500x400 with 1 Axes>"
      ]
     },
     "metadata": {},
     "output_type": "display_data"
    }
   ],
   "source": [
    "#Other way:\n",
    "\n",
    "fig,ax = plt.subplots(figsize=(5,4))\n",
    "ax.bar(total_response.index,total_response.values)\n",
    "ax.set_xlabel(\"Response\")\n",
    "ax.set_ylabel('Count')\n",
    "ax.set_title('Total Response')\n",
    "plt.show()"
   ]
  },
  {
   "cell_type": "code",
   "execution_count": 47,
   "id": "502b5e91",
   "metadata": {},
   "outputs": [
    {
     "data": {
      "text/html": [
       "<div>\n",
       "<style scoped>\n",
       "    .dataframe tbody tr th:only-of-type {\n",
       "        vertical-align: middle;\n",
       "    }\n",
       "\n",
       "    .dataframe tbody tr th {\n",
       "        vertical-align: top;\n",
       "    }\n",
       "\n",
       "    .dataframe thead th {\n",
       "        text-align: right;\n",
       "    }\n",
       "</style>\n",
       "<table border=\"1\" class=\"dataframe\">\n",
       "  <thead>\n",
       "    <tr style=\"text-align: right;\">\n",
       "      <th></th>\n",
       "      <th>unnamed: 0</th>\n",
       "      <th>customer</th>\n",
       "      <th>state</th>\n",
       "      <th>customer lifetime value</th>\n",
       "      <th>response</th>\n",
       "      <th>coverage</th>\n",
       "      <th>education</th>\n",
       "      <th>effective to date</th>\n",
       "      <th>employmentstatus</th>\n",
       "      <th>gender</th>\n",
       "      <th>...</th>\n",
       "      <th>number of policies</th>\n",
       "      <th>policy type</th>\n",
       "      <th>policy</th>\n",
       "      <th>renew offer type</th>\n",
       "      <th>sales channel</th>\n",
       "      <th>total claim amount</th>\n",
       "      <th>vehicle class</th>\n",
       "      <th>vehicle size</th>\n",
       "      <th>vehicle type</th>\n",
       "      <th>month</th>\n",
       "    </tr>\n",
       "  </thead>\n",
       "  <tbody>\n",
       "    <tr>\n",
       "      <th>3</th>\n",
       "      <td>3</td>\n",
       "      <td>XL78013</td>\n",
       "      <td>Oregon</td>\n",
       "      <td>22332.439460</td>\n",
       "      <td>Yes</td>\n",
       "      <td>Extended</td>\n",
       "      <td>College</td>\n",
       "      <td>2011-01-11</td>\n",
       "      <td>Employed</td>\n",
       "      <td>M</td>\n",
       "      <td>...</td>\n",
       "      <td>2</td>\n",
       "      <td>Corporate Auto</td>\n",
       "      <td>Corporate L3</td>\n",
       "      <td>Offer2</td>\n",
       "      <td>Branch</td>\n",
       "      <td>484.013411</td>\n",
       "      <td>Four-Door Car</td>\n",
       "      <td>Medsize</td>\n",
       "      <td>A</td>\n",
       "      <td>January</td>\n",
       "    </tr>\n",
       "    <tr>\n",
       "      <th>8</th>\n",
       "      <td>8</td>\n",
       "      <td>FM55990</td>\n",
       "      <td>California</td>\n",
       "      <td>5989.773931</td>\n",
       "      <td>Yes</td>\n",
       "      <td>Premium</td>\n",
       "      <td>College</td>\n",
       "      <td>2011-01-19</td>\n",
       "      <td>Employed</td>\n",
       "      <td>M</td>\n",
       "      <td>...</td>\n",
       "      <td>1</td>\n",
       "      <td>Personal Auto</td>\n",
       "      <td>Personal L1</td>\n",
       "      <td>Offer2</td>\n",
       "      <td>Branch</td>\n",
       "      <td>739.200000</td>\n",
       "      <td>Sports Car</td>\n",
       "      <td>Medsize</td>\n",
       "      <td>A</td>\n",
       "      <td>January</td>\n",
       "    </tr>\n",
       "    <tr>\n",
       "      <th>15</th>\n",
       "      <td>15</td>\n",
       "      <td>CW49887</td>\n",
       "      <td>California</td>\n",
       "      <td>4626.801093</td>\n",
       "      <td>Yes</td>\n",
       "      <td>Basic</td>\n",
       "      <td>Master</td>\n",
       "      <td>2011-01-16</td>\n",
       "      <td>Employed</td>\n",
       "      <td>F</td>\n",
       "      <td>...</td>\n",
       "      <td>1</td>\n",
       "      <td>Special Auto</td>\n",
       "      <td>Special L1</td>\n",
       "      <td>Offer2</td>\n",
       "      <td>Branch</td>\n",
       "      <td>547.200000</td>\n",
       "      <td>SUV</td>\n",
       "      <td>Medsize</td>\n",
       "      <td>A</td>\n",
       "      <td>January</td>\n",
       "    </tr>\n",
       "    <tr>\n",
       "      <th>19</th>\n",
       "      <td>19</td>\n",
       "      <td>NJ54277</td>\n",
       "      <td>California</td>\n",
       "      <td>3746.751625</td>\n",
       "      <td>Yes</td>\n",
       "      <td>Extended</td>\n",
       "      <td>College</td>\n",
       "      <td>2011-02-26</td>\n",
       "      <td>Employed</td>\n",
       "      <td>F</td>\n",
       "      <td>...</td>\n",
       "      <td>1</td>\n",
       "      <td>Personal Auto</td>\n",
       "      <td>Personal L2</td>\n",
       "      <td>Offer2</td>\n",
       "      <td>Call Center</td>\n",
       "      <td>19.575683</td>\n",
       "      <td>Two-Door Car</td>\n",
       "      <td>Large</td>\n",
       "      <td>A</td>\n",
       "      <td>February</td>\n",
       "    </tr>\n",
       "    <tr>\n",
       "      <th>27</th>\n",
       "      <td>27</td>\n",
       "      <td>MQ68407</td>\n",
       "      <td>Oregon</td>\n",
       "      <td>4376.363592</td>\n",
       "      <td>Yes</td>\n",
       "      <td>Premium</td>\n",
       "      <td>Bachelor</td>\n",
       "      <td>2011-02-28</td>\n",
       "      <td>Employed</td>\n",
       "      <td>F</td>\n",
       "      <td>...</td>\n",
       "      <td>1</td>\n",
       "      <td>Personal Auto</td>\n",
       "      <td>Personal L3</td>\n",
       "      <td>Offer2</td>\n",
       "      <td>Agent</td>\n",
       "      <td>60.036683</td>\n",
       "      <td>Four-Door Car</td>\n",
       "      <td>Medsize</td>\n",
       "      <td>A</td>\n",
       "      <td>February</td>\n",
       "    </tr>\n",
       "    <tr>\n",
       "      <th>...</th>\n",
       "      <td>...</td>\n",
       "      <td>...</td>\n",
       "      <td>...</td>\n",
       "      <td>...</td>\n",
       "      <td>...</td>\n",
       "      <td>...</td>\n",
       "      <td>...</td>\n",
       "      <td>...</td>\n",
       "      <td>...</td>\n",
       "      <td>...</td>\n",
       "      <td>...</td>\n",
       "      <td>...</td>\n",
       "      <td>...</td>\n",
       "      <td>...</td>\n",
       "      <td>...</td>\n",
       "      <td>...</td>\n",
       "      <td>...</td>\n",
       "      <td>...</td>\n",
       "      <td>...</td>\n",
       "      <td>...</td>\n",
       "      <td>...</td>\n",
       "    </tr>\n",
       "    <tr>\n",
       "      <th>10840</th>\n",
       "      <td>10840</td>\n",
       "      <td>ME22430</td>\n",
       "      <td>Nevada</td>\n",
       "      <td>2453.570794</td>\n",
       "      <td>Yes</td>\n",
       "      <td>Basic</td>\n",
       "      <td>Bachelor</td>\n",
       "      <td>2011-02-09</td>\n",
       "      <td>Medical Leave</td>\n",
       "      <td>M</td>\n",
       "      <td>...</td>\n",
       "      <td>1</td>\n",
       "      <td>Personal Auto</td>\n",
       "      <td>Personal L2</td>\n",
       "      <td>Offer1</td>\n",
       "      <td>Agent</td>\n",
       "      <td>331.200000</td>\n",
       "      <td>Four-Door Car</td>\n",
       "      <td>Medsize</td>\n",
       "      <td>A</td>\n",
       "      <td>February</td>\n",
       "    </tr>\n",
       "    <tr>\n",
       "      <th>10844</th>\n",
       "      <td>10844</td>\n",
       "      <td>FM31768</td>\n",
       "      <td>Arizona</td>\n",
       "      <td>5979.724161</td>\n",
       "      <td>Yes</td>\n",
       "      <td>Extended</td>\n",
       "      <td>High School or Below</td>\n",
       "      <td>2011-02-07</td>\n",
       "      <td>Employed</td>\n",
       "      <td>F</td>\n",
       "      <td>...</td>\n",
       "      <td>3</td>\n",
       "      <td>Personal Auto</td>\n",
       "      <td>Personal L1</td>\n",
       "      <td>Offer2</td>\n",
       "      <td>Agent</td>\n",
       "      <td>547.200000</td>\n",
       "      <td>Four-Door Car</td>\n",
       "      <td>Medsize</td>\n",
       "      <td>A</td>\n",
       "      <td>February</td>\n",
       "    </tr>\n",
       "    <tr>\n",
       "      <th>10872</th>\n",
       "      <td>10872</td>\n",
       "      <td>XT67997</td>\n",
       "      <td>California</td>\n",
       "      <td>5979.724161</td>\n",
       "      <td>Yes</td>\n",
       "      <td>Extended</td>\n",
       "      <td>High School or Below</td>\n",
       "      <td>2011-02-07</td>\n",
       "      <td>Employed</td>\n",
       "      <td>F</td>\n",
       "      <td>...</td>\n",
       "      <td>3</td>\n",
       "      <td>Personal Auto</td>\n",
       "      <td>Personal L3</td>\n",
       "      <td>Offer2</td>\n",
       "      <td>Agent</td>\n",
       "      <td>547.200000</td>\n",
       "      <td>Four-Door Car</td>\n",
       "      <td>Medsize</td>\n",
       "      <td>A</td>\n",
       "      <td>February</td>\n",
       "    </tr>\n",
       "    <tr>\n",
       "      <th>10887</th>\n",
       "      <td>10887</td>\n",
       "      <td>BY78730</td>\n",
       "      <td>Oregon</td>\n",
       "      <td>8879.790017</td>\n",
       "      <td>Yes</td>\n",
       "      <td>Basic</td>\n",
       "      <td>High School or Below</td>\n",
       "      <td>2011-02-03</td>\n",
       "      <td>Employed</td>\n",
       "      <td>F</td>\n",
       "      <td>...</td>\n",
       "      <td>7</td>\n",
       "      <td>Special Auto</td>\n",
       "      <td>Special L2</td>\n",
       "      <td>Offer1</td>\n",
       "      <td>Agent</td>\n",
       "      <td>528.200860</td>\n",
       "      <td>SUV</td>\n",
       "      <td>Small</td>\n",
       "      <td>A</td>\n",
       "      <td>February</td>\n",
       "    </tr>\n",
       "    <tr>\n",
       "      <th>10897</th>\n",
       "      <td>10897</td>\n",
       "      <td>MM70762</td>\n",
       "      <td>Arizona</td>\n",
       "      <td>9075.768214</td>\n",
       "      <td>Yes</td>\n",
       "      <td>Basic</td>\n",
       "      <td>Master</td>\n",
       "      <td>2011-01-26</td>\n",
       "      <td>Employed</td>\n",
       "      <td>M</td>\n",
       "      <td>...</td>\n",
       "      <td>8</td>\n",
       "      <td>Personal Auto</td>\n",
       "      <td>Personal L1</td>\n",
       "      <td>Offer1</td>\n",
       "      <td>Agent</td>\n",
       "      <td>158.077504</td>\n",
       "      <td>Sports Car</td>\n",
       "      <td>Medsize</td>\n",
       "      <td>A</td>\n",
       "      <td>January</td>\n",
       "    </tr>\n",
       "  </tbody>\n",
       "</table>\n",
       "<p>1380 rows × 27 columns</p>\n",
       "</div>"
      ],
      "text/plain": [
       "       unnamed: 0 customer       state  customer lifetime value response  \\\n",
       "3               3  XL78013      Oregon             22332.439460      Yes   \n",
       "8               8  FM55990  California              5989.773931      Yes   \n",
       "15             15  CW49887  California              4626.801093      Yes   \n",
       "19             19  NJ54277  California              3746.751625      Yes   \n",
       "27             27  MQ68407      Oregon              4376.363592      Yes   \n",
       "...           ...      ...         ...                      ...      ...   \n",
       "10840       10840  ME22430      Nevada              2453.570794      Yes   \n",
       "10844       10844  FM31768     Arizona              5979.724161      Yes   \n",
       "10872       10872  XT67997  California              5979.724161      Yes   \n",
       "10887       10887  BY78730      Oregon              8879.790017      Yes   \n",
       "10897       10897  MM70762     Arizona              9075.768214      Yes   \n",
       "\n",
       "       coverage             education effective to date employmentstatus  \\\n",
       "3      Extended               College        2011-01-11         Employed   \n",
       "8       Premium               College        2011-01-19         Employed   \n",
       "15        Basic                Master        2011-01-16         Employed   \n",
       "19     Extended               College        2011-02-26         Employed   \n",
       "27      Premium              Bachelor        2011-02-28         Employed   \n",
       "...         ...                   ...               ...              ...   \n",
       "10840     Basic              Bachelor        2011-02-09    Medical Leave   \n",
       "10844  Extended  High School or Below        2011-02-07         Employed   \n",
       "10872  Extended  High School or Below        2011-02-07         Employed   \n",
       "10887     Basic  High School or Below        2011-02-03         Employed   \n",
       "10897     Basic                Master        2011-01-26         Employed   \n",
       "\n",
       "      gender  ...  number of policies     policy type        policy  \\\n",
       "3          M  ...                   2  Corporate Auto  Corporate L3   \n",
       "8          M  ...                   1   Personal Auto   Personal L1   \n",
       "15         F  ...                   1    Special Auto    Special L1   \n",
       "19         F  ...                   1   Personal Auto   Personal L2   \n",
       "27         F  ...                   1   Personal Auto   Personal L3   \n",
       "...      ...  ...                 ...             ...           ...   \n",
       "10840      M  ...                   1   Personal Auto   Personal L2   \n",
       "10844      F  ...                   3   Personal Auto   Personal L1   \n",
       "10872      F  ...                   3   Personal Auto   Personal L3   \n",
       "10887      F  ...                   7    Special Auto    Special L2   \n",
       "10897      M  ...                   8   Personal Auto   Personal L1   \n",
       "\n",
       "       renew offer type  sales channel  total claim amount  vehicle class  \\\n",
       "3                Offer2         Branch          484.013411  Four-Door Car   \n",
       "8                Offer2         Branch          739.200000     Sports Car   \n",
       "15               Offer2         Branch          547.200000            SUV   \n",
       "19               Offer2    Call Center           19.575683   Two-Door Car   \n",
       "27               Offer2          Agent           60.036683  Four-Door Car   \n",
       "...                 ...            ...                 ...            ...   \n",
       "10840            Offer1          Agent          331.200000  Four-Door Car   \n",
       "10844            Offer2          Agent          547.200000  Four-Door Car   \n",
       "10872            Offer2          Agent          547.200000  Four-Door Car   \n",
       "10887            Offer1          Agent          528.200860            SUV   \n",
       "10897            Offer1          Agent          158.077504     Sports Car   \n",
       "\n",
       "       vehicle size vehicle type     month  \n",
       "3           Medsize            A   January  \n",
       "8           Medsize            A   January  \n",
       "15          Medsize            A   January  \n",
       "19            Large            A  February  \n",
       "27          Medsize            A  February  \n",
       "...             ...          ...       ...  \n",
       "10840       Medsize            A  February  \n",
       "10844       Medsize            A  February  \n",
       "10872       Medsize            A  February  \n",
       "10887         Small            A  February  \n",
       "10897       Medsize            A   January  \n",
       "\n",
       "[1380 rows x 27 columns]"
      ]
     },
     "execution_count": 47,
     "metadata": {},
     "output_type": "execute_result"
    }
   ],
   "source": [
    "#Show a plot of the response rate by the sales channel.\n",
    "\n",
    "#need to make a DataFrame that contain the response rate by channel. \n",
    "    #what is the response rate --> Yes/Total\n",
    "    \n",
    "yes_response = marketing_customer_analysis[marketing_customer_analysis['response']==\"Yes\"]\n",
    "\n",
    "yes_response \n",
    "\n"
   ]
  },
  {
   "cell_type": "code",
   "execution_count": 48,
   "id": "d2e831ff",
   "metadata": {},
   "outputs": [
    {
     "data": {
      "text/plain": [
       "Agent          701\n",
       "Branch         307\n",
       "Call Center    203\n",
       "Web            169\n",
       "Name: sales channel, dtype: int64"
      ]
     },
     "execution_count": 48,
     "metadata": {},
     "output_type": "execute_result"
    }
   ],
   "source": [
    "yes_response_channel = yes_response['sales channel'].value_counts()\n",
    "yes_response_channel"
   ]
  },
  {
   "cell_type": "code",
   "execution_count": 49,
   "id": "8a76801c",
   "metadata": {},
   "outputs": [
    {
     "data": {
      "image/png": "[encoded data removed]",
      "text/plain": [
       "<Figure size 500x400 with 1 Axes>"
      ]
     },
     "metadata": {},
     "output_type": "display_data"
    }
   ],
   "source": [
    "fig,ax = plt.subplots(figsize=(5,4))\n",
    "ax.bar(yes_response_channel.index,yes_response_channel.values)\n",
    "ax.set_xlabel(\"Channel\")\n",
    "ax.set_ylabel('Response')\n",
    "ax.set_title('Total Response per Channel')\n",
    "ax.set\n",
    "plt.show()"
   ]
  },
  {
   "cell_type": "code",
   "execution_count": 50,
   "id": "4a0ac79d",
   "metadata": {},
   "outputs": [],
   "source": [
    "#Show a plot of the response rate by the total claim amount.\n",
    "\n",
    "#I dont really undersdtand the idea of this plot"
   ]
  },
  {
   "cell_type": "code",
   "execution_count": 51,
   "id": "7ef522c5",
   "metadata": {},
   "outputs": [],
   "source": [
    "# Show a plot of the response rate by income. \n"
   ]
  },
  {
   "cell_type": "code",
   "execution_count": 52,
   "id": "4f69ea4d",
   "metadata": {},
   "outputs": [
    {
     "name": "stdout",
     "output_type": "stream",
     "text": [
      "Lab Customer Analysis Round 6_W1_D5.ipynb\r\n",
      "\u001b[34mfiles_for_lab\u001b[m\u001b[m\r\n",
      "readme.md\r\n"
     ]
    }
   ],
   "source": [
    "!ls "
   ]
  },
  {
   "cell_type": "code",
   "execution_count": 53,
   "id": "8bf9e4b0",
   "metadata": {},
   "outputs": [
    {
     "data": {
      "text/plain": [
       "Index(['unnamed: 0', 'customer', 'state', 'customer lifetime value',\n",
       "       'response', 'coverage', 'education', 'effective to date',\n",
       "       'employmentstatus', 'gender', 'income', 'location code',\n",
       "       'marital status', 'monthly premium auto', 'months since last claim',\n",
       "       'months since policy inception', 'number of open complaints',\n",
       "       'number of policies', 'policy type', 'policy', 'renew offer type',\n",
       "       'sales channel', 'total claim amount', 'vehicle class', 'vehicle size',\n",
       "       'vehicle type', 'month'],\n",
       "      dtype='object')"
      ]
     },
     "execution_count": 53,
     "metadata": {},
     "output_type": "execute_result"
    }
   ],
   "source": [
    "marketing_customer_analysis.columns"
   ]
  },
  {
   "cell_type": "code",
   "execution_count": 54,
   "id": "8de0e73b",
   "metadata": {},
   "outputs": [
    {
     "data": {
      "text/plain": [
       "count     9688.000000\n",
       "mean     37551.325764\n",
       "std      30357.895578\n",
       "min          0.000000\n",
       "25%          0.000000\n",
       "50%      33802.500000\n",
       "75%      62259.000000\n",
       "max      99981.000000\n",
       "Name: income, dtype: float64"
      ]
     },
     "execution_count": 54,
     "metadata": {},
     "output_type": "execute_result"
    }
   ],
   "source": [
    "marketing_customer_analysis['income'].describe()"
   ]
  },
  {
   "cell_type": "code",
   "execution_count": 55,
   "id": "485add99",
   "metadata": {},
   "outputs": [],
   "source": [
    "Income = marketing_customer_analysis['income']"
   ]
  },
  {
   "cell_type": "code",
   "execution_count": 56,
   "id": "c31f7faf",
   "metadata": {},
   "outputs": [
    {
     "data": {
      "image/png": "[encoded data removed]",
      "text/plain": [
       "<Figure size 700x500 with 1 Axes>"
      ]
     },
     "metadata": {},
     "output_type": "display_data"
    }
   ],
   "source": [
    "fig, ax = plt.subplots(figsize = (7, 5))\n",
    "\n",
    "ax.hist(Income, bins=5, edgecolor=\"black\")\n",
    "ax.set_xlabel(\"Income\")\n",
    "ax.set_ylabel('Response')\n",
    "ax.set_title('Income of Response')\n",
    "ax.set\n",
    "plt.show()"
   ]
  },
  {
   "cell_type": "code",
   "execution_count": 57,
   "id": "7820775b",
   "metadata": {},
   "outputs": [
    {
     "data": {
      "text/plain": [
       "3022"
      ]
     },
     "execution_count": 57,
     "metadata": {},
     "output_type": "execute_result"
    }
   ],
   "source": [
    "#Check if this plot make any sense: \n",
    "\n",
    "#df.loc[df['Income'] < 20000].count()\n",
    "\n",
    "marketing_customer_analysis[marketing_customer_analysis['income']<20000].shape[0]"
   ]
  },
  {
   "cell_type": "markdown",
   "id": "baab99e2",
   "metadata": {},
   "source": [
    "<font size=\"5\">**4) Lab | Customer Analysis Round 4**</font>"
   ]
  },
  {
   "cell_type": "markdown",
   "id": "b3ec0392",
   "metadata": {},
   "source": [
    "<font size=\"3\">**4.1)**   Check the data types of the columns. Get the numeric data into dataframe called numerical and categorical columns in a dataframe called categoricals.\n",
    "\n",
    "(You can use np.number and np.object to select the numerical data types and categorical data types respectively)</font>\n",
    "\n",
    "<br>"
   ]
  },
  {
   "cell_type": "code",
   "execution_count": 58,
   "id": "27713771",
   "metadata": {},
   "outputs": [
    {
     "name": "stdout",
     "output_type": "stream",
     "text": [
      "<class 'pandas.core.frame.DataFrame'>\n",
      "Int64Index: 9688 entries, 0 to 10908\n",
      "Data columns (total 27 columns):\n",
      " #   Column                         Non-Null Count  Dtype         \n",
      "---  ------                         --------------  -----         \n",
      " 0   unnamed: 0                     9688 non-null   int64         \n",
      " 1   customer                       9688 non-null   object        \n",
      " 2   state                          9688 non-null   object        \n",
      " 3   customer lifetime value        9688 non-null   float64       \n",
      " 4   response                       9688 non-null   object        \n",
      " 5   coverage                       9688 non-null   object        \n",
      " 6   education                      9688 non-null   object        \n",
      " 7   effective to date              9688 non-null   datetime64[ns]\n",
      " 8   employmentstatus               9688 non-null   object        \n",
      " 9   gender                         9688 non-null   object        \n",
      " 10  income                         9688 non-null   int64         \n",
      " 11  location code                  9688 non-null   object        \n",
      " 12  marital status                 9688 non-null   object        \n",
      " 13  monthly premium auto           9688 non-null   int64         \n",
      " 14  months since last claim        9688 non-null   float64       \n",
      " 15  months since policy inception  9688 non-null   int64         \n",
      " 16  number of open complaints      9688 non-null   float64       \n",
      " 17  number of policies             9688 non-null   int64         \n",
      " 18  policy type                    9688 non-null   object        \n",
      " 19  policy                         9688 non-null   object        \n",
      " 20  renew offer type               9688 non-null   object        \n",
      " 21  sales channel                  9688 non-null   object        \n",
      " 22  total claim amount             9688 non-null   float64       \n",
      " 23  vehicle class                  9688 non-null   object        \n",
      " 24  vehicle size                   9688 non-null   object        \n",
      " 25  vehicle type                   9688 non-null   object        \n",
      " 26  month                          9688 non-null   object        \n",
      "dtypes: datetime64[ns](1), float64(4), int64(5), object(17)\n",
      "memory usage: 2.1+ MB\n"
     ]
    }
   ],
   "source": [
    "marketing_customer_analysis.info()"
   ]
  },
  {
   "cell_type": "code",
   "execution_count": 59,
   "id": "45d9f569",
   "metadata": {},
   "outputs": [
    {
     "data": {
      "text/html": [
       "<div>\n",
       "<style scoped>\n",
       "    .dataframe tbody tr th:only-of-type {\n",
       "        vertical-align: middle;\n",
       "    }\n",
       "\n",
       "    .dataframe tbody tr th {\n",
       "        vertical-align: top;\n",
       "    }\n",
       "\n",
       "    .dataframe thead th {\n",
       "        text-align: right;\n",
       "    }\n",
       "</style>\n",
       "<table border=\"1\" class=\"dataframe\">\n",
       "  <thead>\n",
       "    <tr style=\"text-align: right;\">\n",
       "      <th></th>\n",
       "      <th>unnamed: 0</th>\n",
       "      <th>customer lifetime value</th>\n",
       "      <th>income</th>\n",
       "      <th>monthly premium auto</th>\n",
       "      <th>months since last claim</th>\n",
       "      <th>months since policy inception</th>\n",
       "      <th>number of open complaints</th>\n",
       "      <th>number of policies</th>\n",
       "      <th>total claim amount</th>\n",
       "    </tr>\n",
       "  </thead>\n",
       "  <tbody>\n",
       "    <tr>\n",
       "      <th>0</th>\n",
       "      <td>0</td>\n",
       "      <td>4809.216960</td>\n",
       "      <td>48029</td>\n",
       "      <td>61</td>\n",
       "      <td>7.000000</td>\n",
       "      <td>52</td>\n",
       "      <td>0.0</td>\n",
       "      <td>9</td>\n",
       "      <td>292.800000</td>\n",
       "    </tr>\n",
       "    <tr>\n",
       "      <th>1</th>\n",
       "      <td>1</td>\n",
       "      <td>2228.525238</td>\n",
       "      <td>0</td>\n",
       "      <td>64</td>\n",
       "      <td>3.000000</td>\n",
       "      <td>26</td>\n",
       "      <td>0.0</td>\n",
       "      <td>1</td>\n",
       "      <td>744.924331</td>\n",
       "    </tr>\n",
       "    <tr>\n",
       "      <th>2</th>\n",
       "      <td>2</td>\n",
       "      <td>14947.917300</td>\n",
       "      <td>22139</td>\n",
       "      <td>100</td>\n",
       "      <td>34.000000</td>\n",
       "      <td>31</td>\n",
       "      <td>0.0</td>\n",
       "      <td>2</td>\n",
       "      <td>480.000000</td>\n",
       "    </tr>\n",
       "    <tr>\n",
       "      <th>3</th>\n",
       "      <td>3</td>\n",
       "      <td>22332.439460</td>\n",
       "      <td>49078</td>\n",
       "      <td>97</td>\n",
       "      <td>10.000000</td>\n",
       "      <td>3</td>\n",
       "      <td>0.0</td>\n",
       "      <td>2</td>\n",
       "      <td>484.013411</td>\n",
       "    </tr>\n",
       "    <tr>\n",
       "      <th>4</th>\n",
       "      <td>4</td>\n",
       "      <td>9025.067525</td>\n",
       "      <td>23675</td>\n",
       "      <td>117</td>\n",
       "      <td>15.149071</td>\n",
       "      <td>31</td>\n",
       "      <td>0.0</td>\n",
       "      <td>7</td>\n",
       "      <td>707.925645</td>\n",
       "    </tr>\n",
       "  </tbody>\n",
       "</table>\n",
       "</div>"
      ],
      "text/plain": [
       "   unnamed: 0  customer lifetime value  income  monthly premium auto  \\\n",
       "0           0              4809.216960   48029                    61   \n",
       "1           1              2228.525238       0                    64   \n",
       "2           2             14947.917300   22139                   100   \n",
       "3           3             22332.439460   49078                    97   \n",
       "4           4              9025.067525   23675                   117   \n",
       "\n",
       "   months since last claim  months since policy inception  \\\n",
       "0                 7.000000                             52   \n",
       "1                 3.000000                             26   \n",
       "2                34.000000                             31   \n",
       "3                10.000000                              3   \n",
       "4                15.149071                             31   \n",
       "\n",
       "   number of open complaints  number of policies  total claim amount  \n",
       "0                        0.0                   9          292.800000  \n",
       "1                        0.0                   1          744.924331  \n",
       "2                        0.0                   2          480.000000  \n",
       "3                        0.0                   2          484.013411  \n",
       "4                        0.0                   7          707.925645  "
      ]
     },
     "execution_count": 59,
     "metadata": {},
     "output_type": "execute_result"
    }
   ],
   "source": [
    "mca_numerical = marketing_customer_analysis.select_dtypes(include=[np.number])\n",
    "mca_numerical.head()"
   ]
  },
  {
   "cell_type": "code",
   "execution_count": 60,
   "id": "6b8bef4e",
   "metadata": {},
   "outputs": [
    {
     "name": "stderr",
     "output_type": "stream",
     "text": [
      "/var/folders/2b/6f80d7g11sl53b_wrqy2w81r0000gn/T/ipykernel_64932/3689743116.py:1: DeprecationWarning: `np.object` is a deprecated alias for the builtin `object`. To silence this warning, use `object` by itself. Doing this will not modify any behavior and is safe. \n",
      "Deprecated in NumPy 1.20; for more details and guidance: https://numpy.org/devdocs/release/1.20.0-notes.html#deprecations\n",
      "  mca_categorical = marketing_customer_analysis.select_dtypes(include=[np.object])\n"
     ]
    },
    {
     "data": {
      "text/html": [
       "<div>\n",
       "<style scoped>\n",
       "    .dataframe tbody tr th:only-of-type {\n",
       "        vertical-align: middle;\n",
       "    }\n",
       "\n",
       "    .dataframe tbody tr th {\n",
       "        vertical-align: top;\n",
       "    }\n",
       "\n",
       "    .dataframe thead th {\n",
       "        text-align: right;\n",
       "    }\n",
       "</style>\n",
       "<table border=\"1\" class=\"dataframe\">\n",
       "  <thead>\n",
       "    <tr style=\"text-align: right;\">\n",
       "      <th></th>\n",
       "      <th>customer</th>\n",
       "      <th>state</th>\n",
       "      <th>response</th>\n",
       "      <th>coverage</th>\n",
       "      <th>education</th>\n",
       "      <th>employmentstatus</th>\n",
       "      <th>gender</th>\n",
       "      <th>location code</th>\n",
       "      <th>marital status</th>\n",
       "      <th>policy type</th>\n",
       "      <th>policy</th>\n",
       "      <th>renew offer type</th>\n",
       "      <th>sales channel</th>\n",
       "      <th>vehicle class</th>\n",
       "      <th>vehicle size</th>\n",
       "      <th>vehicle type</th>\n",
       "      <th>month</th>\n",
       "    </tr>\n",
       "  </thead>\n",
       "  <tbody>\n",
       "    <tr>\n",
       "      <th>0</th>\n",
       "      <td>DK49336</td>\n",
       "      <td>Arizona</td>\n",
       "      <td>No</td>\n",
       "      <td>Basic</td>\n",
       "      <td>College</td>\n",
       "      <td>Employed</td>\n",
       "      <td>M</td>\n",
       "      <td>Suburban</td>\n",
       "      <td>Married</td>\n",
       "      <td>Corporate Auto</td>\n",
       "      <td>Corporate L3</td>\n",
       "      <td>Offer3</td>\n",
       "      <td>Agent</td>\n",
       "      <td>Four-Door Car</td>\n",
       "      <td>Medsize</td>\n",
       "      <td>A</td>\n",
       "      <td>February</td>\n",
       "    </tr>\n",
       "    <tr>\n",
       "      <th>1</th>\n",
       "      <td>KX64629</td>\n",
       "      <td>California</td>\n",
       "      <td>No</td>\n",
       "      <td>Basic</td>\n",
       "      <td>College</td>\n",
       "      <td>Unemployed</td>\n",
       "      <td>F</td>\n",
       "      <td>Suburban</td>\n",
       "      <td>Single</td>\n",
       "      <td>Personal Auto</td>\n",
       "      <td>Personal L3</td>\n",
       "      <td>Offer4</td>\n",
       "      <td>Call Center</td>\n",
       "      <td>Four-Door Car</td>\n",
       "      <td>Medsize</td>\n",
       "      <td>A</td>\n",
       "      <td>January</td>\n",
       "    </tr>\n",
       "    <tr>\n",
       "      <th>2</th>\n",
       "      <td>LZ68649</td>\n",
       "      <td>Washington</td>\n",
       "      <td>No</td>\n",
       "      <td>Basic</td>\n",
       "      <td>Bachelor</td>\n",
       "      <td>Employed</td>\n",
       "      <td>M</td>\n",
       "      <td>Suburban</td>\n",
       "      <td>Single</td>\n",
       "      <td>Personal Auto</td>\n",
       "      <td>Personal L3</td>\n",
       "      <td>Offer3</td>\n",
       "      <td>Call Center</td>\n",
       "      <td>SUV</td>\n",
       "      <td>Medsize</td>\n",
       "      <td>A</td>\n",
       "      <td>February</td>\n",
       "    </tr>\n",
       "    <tr>\n",
       "      <th>3</th>\n",
       "      <td>XL78013</td>\n",
       "      <td>Oregon</td>\n",
       "      <td>Yes</td>\n",
       "      <td>Extended</td>\n",
       "      <td>College</td>\n",
       "      <td>Employed</td>\n",
       "      <td>M</td>\n",
       "      <td>Suburban</td>\n",
       "      <td>Single</td>\n",
       "      <td>Corporate Auto</td>\n",
       "      <td>Corporate L3</td>\n",
       "      <td>Offer2</td>\n",
       "      <td>Branch</td>\n",
       "      <td>Four-Door Car</td>\n",
       "      <td>Medsize</td>\n",
       "      <td>A</td>\n",
       "      <td>January</td>\n",
       "    </tr>\n",
       "    <tr>\n",
       "      <th>4</th>\n",
       "      <td>QA50777</td>\n",
       "      <td>Oregon</td>\n",
       "      <td>No</td>\n",
       "      <td>Premium</td>\n",
       "      <td>Bachelor</td>\n",
       "      <td>Medical Leave</td>\n",
       "      <td>F</td>\n",
       "      <td>Suburban</td>\n",
       "      <td>Married</td>\n",
       "      <td>Personal Auto</td>\n",
       "      <td>Personal L2</td>\n",
       "      <td>Offer1</td>\n",
       "      <td>Branch</td>\n",
       "      <td>Four-Door Car</td>\n",
       "      <td>Medsize</td>\n",
       "      <td>A</td>\n",
       "      <td>January</td>\n",
       "    </tr>\n",
       "  </tbody>\n",
       "</table>\n",
       "</div>"
      ],
      "text/plain": [
       "  customer       state response  coverage education employmentstatus gender  \\\n",
       "0  DK49336     Arizona       No     Basic   College         Employed      M   \n",
       "1  KX64629  California       No     Basic   College       Unemployed      F   \n",
       "2  LZ68649  Washington       No     Basic  Bachelor         Employed      M   \n",
       "3  XL78013      Oregon      Yes  Extended   College         Employed      M   \n",
       "4  QA50777      Oregon       No   Premium  Bachelor    Medical Leave      F   \n",
       "\n",
       "  location code marital status     policy type        policy renew offer type  \\\n",
       "0      Suburban        Married  Corporate Auto  Corporate L3           Offer3   \n",
       "1      Suburban         Single   Personal Auto   Personal L3           Offer4   \n",
       "2      Suburban         Single   Personal Auto   Personal L3           Offer3   \n",
       "3      Suburban         Single  Corporate Auto  Corporate L3           Offer2   \n",
       "4      Suburban        Married   Personal Auto   Personal L2           Offer1   \n",
       "\n",
       "  sales channel  vehicle class vehicle size vehicle type     month  \n",
       "0         Agent  Four-Door Car      Medsize            A  February  \n",
       "1   Call Center  Four-Door Car      Medsize            A   January  \n",
       "2   Call Center            SUV      Medsize            A  February  \n",
       "3        Branch  Four-Door Car      Medsize            A   January  \n",
       "4        Branch  Four-Door Car      Medsize            A   January  "
      ]
     },
     "execution_count": 60,
     "metadata": {},
     "output_type": "execute_result"
    }
   ],
   "source": [
    "mca_categorical = marketing_customer_analysis.select_dtypes(include=[np.object])\n",
    "mca_categorical.head()"
   ]
  },
  {
   "cell_type": "code",
   "execution_count": 61,
   "id": "7644052a",
   "metadata": {},
   "outputs": [
    {
     "name": "stdout",
     "output_type": "stream",
     "text": [
      "Checking columns\n",
      "mca_numerical columns:  9\n",
      "mca_categorical columns:  17\n",
      "mca_total columns:  27\n",
      "\n",
      "Checking rows\n",
      "mca_numerical rows:  9688\n",
      "mca_categorical rows:  9688\n",
      "mca_total rows:  9688\n"
     ]
    }
   ],
   "source": [
    "#check if have not loose data:\n",
    "\n",
    "print('Checking columns')\n",
    "print('mca_numerical columns: ',mca_numerical.shape[1])\n",
    "print('mca_categorical columns: ',mca_categorical.shape[1])\n",
    "print('mca_total columns: ',marketing_customer_analysis.shape[1])\n",
    "print('')\n",
    "print('Checking rows')\n",
    "print('mca_numerical rows: ',mca_numerical.shape[0])\n",
    "print('mca_categorical rows: ',mca_categorical.shape[0])\n",
    "print('mca_total rows: ',marketing_customer_analysis.shape[0])\n",
    "\n",
    "#is missing one column that is the date type column, but is ok for this excercise. "
   ]
  },
  {
   "cell_type": "markdown",
   "id": "5d18d59c",
   "metadata": {},
   "source": [
    "<font size=\"3\">**4.2)** Now we will try to check the normality of the numerical variables visually.Use seaborn library to construct distribution plots for the numerical variables</font> "
   ]
  },
  {
   "cell_type": "code",
   "execution_count": 62,
   "id": "c2e25054",
   "metadata": {},
   "outputs": [
    {
     "data": {
      "text/plain": [
       "Index(['unnamed: 0', 'customer lifetime value', 'income',\n",
       "       'monthly premium auto', 'months since last claim',\n",
       "       'months since policy inception', 'number of open complaints',\n",
       "       'number of policies', 'total claim amount'],\n",
       "      dtype='object')"
      ]
     },
     "execution_count": 62,
     "metadata": {},
     "output_type": "execute_result"
    }
   ],
   "source": [
    "mca_numerical.columns"
   ]
  },
  {
   "cell_type": "code",
   "execution_count": 63,
   "id": "9d0db742",
   "metadata": {},
   "outputs": [
    {
     "data": {
      "text/plain": [
       "'customer lifetime value'"
      ]
     },
     "execution_count": 63,
     "metadata": {},
     "output_type": "execute_result"
    }
   ],
   "source": [
    "mca_numerical.columns[1]"
   ]
  },
  {
   "cell_type": "code",
   "execution_count": 64,
   "id": "7b91f5e0",
   "metadata": {},
   "outputs": [
    {
     "data": {
      "image/png": "[encoded data removed]",
      "text/plain": [
       "<Figure size 500x500 with 1 Axes>"
      ]
     },
     "metadata": {},
     "output_type": "display_data"
    },
    {
     "data": {
      "image/png": "[encoded data removed]",
      "text/plain": [
       "<Figure size 500x500 with 1 Axes>"
      ]
     },
     "metadata": {},
     "output_type": "display_data"
    }
   ],
   "source": [
    "import seaborn as sns \n",
    "\n",
    "fig, ax1 = plt.subplots(figsize=(5,5))\n",
    "sns.histplot(x=mca_numerical['income'],data= mca_numerical)\n",
    "\n",
    "sns.displot(mca_numerical['customer lifetime value'],bins = 50, color = \"g\")\n",
    "\n",
    "plt.tight_layout(pad = 1)\n",
    "plt.show()"
   ]
  },
  {
   "cell_type": "markdown",
   "id": "d70a27f2",
   "metadata": {},
   "source": [
    "<font color=\"blue\">'income' and \"customer lifetime value' dont have a clear standard normal distribution. Can see a Hight Positive Skew on Customer life value.</font>"
   ]
  },
  {
   "cell_type": "code",
   "execution_count": 65,
   "id": "73ed9a2b",
   "metadata": {},
   "outputs": [
    {
     "data": {
      "image/png": "[encoded data removed]",
      "text/plain": [
       "<Figure size 750x750 with 12 Axes>"
      ]
     },
     "metadata": {},
     "output_type": "display_data"
    }
   ],
   "source": [
    "sns.pairplot(mca_numerical[['monthly premium auto','months since last claim','months since policy inception']])\n",
    "plt.show()"
   ]
  },
  {
   "cell_type": "markdown",
   "id": "1105200b",
   "metadata": {},
   "source": [
    "<font color=\"blue\">'monthly premium auto' also seems to have a really positive Skew.</font>\n",
    "\n",
    "<font color=\"blue\">'month since las claim' and 'month since policy inception' doesnt look to have a normal distribution.</font>"
   ]
  },
  {
   "cell_type": "markdown",
   "id": "210b8974",
   "metadata": {},
   "source": [
    "<font size=\"3\">**4.3)** Use Matplotlib to construct histograms</font> "
   ]
  },
  {
   "cell_type": "code",
   "execution_count": 66,
   "id": "6597ece3",
   "metadata": {
    "scrolled": true
   },
   "outputs": [
    {
     "data": {
      "image/png": "[encoded data removed]",
      "text/plain": [
       "<Figure size 640x480 with 1 Axes>"
      ]
     },
     "metadata": {},
     "output_type": "display_data"
    }
   ],
   "source": [
    "mca_numerical['number of policies'].hist(bins=10)\n",
    "plt.xlabel('number of policies')\n",
    "plt.ylabel('counts')\n",
    "\n",
    "plt.show()"
   ]
  },
  {
   "cell_type": "code",
   "execution_count": 67,
   "id": "bd6902cd",
   "metadata": {},
   "outputs": [
    {
     "data": {
      "image/png": "[encoded data removed]",
      "text/plain": [
       "<Figure size 640x480 with 1 Axes>"
      ]
     },
     "metadata": {},
     "output_type": "display_data"
    }
   ],
   "source": [
    "plt.hist(mca_numerical['total claim amount'],bins=20,color='m')\n",
    "plt.xlabel('total claim amount')\n",
    "plt.ylabel('counts')\n",
    "plt.title('Total claim amount')\n",
    "\n",
    "plt.show()\n",
    "\n",
    "\n",
    "#plt.hist(data, bins=20)"
   ]
  },
  {
   "cell_type": "markdown",
   "id": "bfaff4d3",
   "metadata": {},
   "source": [
    "<font size=\"3\">the distributions for different numerical variables look like a normal distribution ?</font> "
   ]
  },
  {
   "cell_type": "markdown",
   "id": "3a315165",
   "metadata": {},
   "source": [
    "<font color=\"blue\">'They both also dont look like a Standard normal distribution, theu have a  positive Skew.</font>"
   ]
  },
  {
   "cell_type": "markdown",
   "id": "42597c21",
   "metadata": {},
   "source": [
    "<font size=\"3\">**4.4)**  For the numerical variables, check the multicollinearity between the features. Please note that we will use the column total_claim_amount later as the target variable.</font>\n",
    "\n",
    "\n",
    "\n",
    "\n",
    "<br>"
   ]
  },
  {
   "cell_type": "code",
   "execution_count": 68,
   "id": "8a3e015b",
   "metadata": {},
   "outputs": [
    {
     "data": {
      "text/html": [
       "<div>\n",
       "<style scoped>\n",
       "    .dataframe tbody tr th:only-of-type {\n",
       "        vertical-align: middle;\n",
       "    }\n",
       "\n",
       "    .dataframe tbody tr th {\n",
       "        vertical-align: top;\n",
       "    }\n",
       "\n",
       "    .dataframe thead th {\n",
       "        text-align: right;\n",
       "    }\n",
       "</style>\n",
       "<table border=\"1\" class=\"dataframe\">\n",
       "  <thead>\n",
       "    <tr style=\"text-align: right;\">\n",
       "      <th></th>\n",
       "      <th>unnamed: 0</th>\n",
       "      <th>customer lifetime value</th>\n",
       "      <th>income</th>\n",
       "      <th>monthly premium auto</th>\n",
       "      <th>months since last claim</th>\n",
       "      <th>months since policy inception</th>\n",
       "      <th>number of open complaints</th>\n",
       "      <th>number of policies</th>\n",
       "      <th>total claim amount</th>\n",
       "    </tr>\n",
       "  </thead>\n",
       "  <tbody>\n",
       "    <tr>\n",
       "      <th>unnamed: 0</th>\n",
       "      <td>1.00</td>\n",
       "      <td>-0.00</td>\n",
       "      <td>0.01</td>\n",
       "      <td>-0.00</td>\n",
       "      <td>0.01</td>\n",
       "      <td>0.01</td>\n",
       "      <td>0.00</td>\n",
       "      <td>0.01</td>\n",
       "      <td>-0.00</td>\n",
       "    </tr>\n",
       "    <tr>\n",
       "      <th>customer lifetime value</th>\n",
       "      <td>-0.00</td>\n",
       "      <td>1.00</td>\n",
       "      <td>0.02</td>\n",
       "      <td>0.40</td>\n",
       "      <td>0.01</td>\n",
       "      <td>0.01</td>\n",
       "      <td>-0.03</td>\n",
       "      <td>0.02</td>\n",
       "      <td>0.23</td>\n",
       "    </tr>\n",
       "    <tr>\n",
       "      <th>income</th>\n",
       "      <td>0.01</td>\n",
       "      <td>0.02</td>\n",
       "      <td>1.00</td>\n",
       "      <td>-0.02</td>\n",
       "      <td>-0.03</td>\n",
       "      <td>0.00</td>\n",
       "      <td>0.01</td>\n",
       "      <td>-0.01</td>\n",
       "      <td>-0.36</td>\n",
       "    </tr>\n",
       "    <tr>\n",
       "      <th>monthly premium auto</th>\n",
       "      <td>-0.00</td>\n",
       "      <td>0.40</td>\n",
       "      <td>-0.02</td>\n",
       "      <td>1.00</td>\n",
       "      <td>0.00</td>\n",
       "      <td>0.02</td>\n",
       "      <td>-0.01</td>\n",
       "      <td>-0.01</td>\n",
       "      <td>0.63</td>\n",
       "    </tr>\n",
       "    <tr>\n",
       "      <th>months since last claim</th>\n",
       "      <td>0.01</td>\n",
       "      <td>0.01</td>\n",
       "      <td>-0.03</td>\n",
       "      <td>0.00</td>\n",
       "      <td>1.00</td>\n",
       "      <td>-0.04</td>\n",
       "      <td>0.01</td>\n",
       "      <td>0.01</td>\n",
       "      <td>0.01</td>\n",
       "    </tr>\n",
       "    <tr>\n",
       "      <th>months since policy inception</th>\n",
       "      <td>0.01</td>\n",
       "      <td>0.01</td>\n",
       "      <td>0.00</td>\n",
       "      <td>0.02</td>\n",
       "      <td>-0.04</td>\n",
       "      <td>1.00</td>\n",
       "      <td>-0.00</td>\n",
       "      <td>-0.02</td>\n",
       "      <td>-0.00</td>\n",
       "    </tr>\n",
       "    <tr>\n",
       "      <th>number of open complaints</th>\n",
       "      <td>0.00</td>\n",
       "      <td>-0.03</td>\n",
       "      <td>0.01</td>\n",
       "      <td>-0.01</td>\n",
       "      <td>0.01</td>\n",
       "      <td>-0.00</td>\n",
       "      <td>1.00</td>\n",
       "      <td>-0.00</td>\n",
       "      <td>-0.02</td>\n",
       "    </tr>\n",
       "    <tr>\n",
       "      <th>number of policies</th>\n",
       "      <td>0.01</td>\n",
       "      <td>0.02</td>\n",
       "      <td>-0.01</td>\n",
       "      <td>-0.01</td>\n",
       "      <td>0.01</td>\n",
       "      <td>-0.02</td>\n",
       "      <td>-0.00</td>\n",
       "      <td>1.00</td>\n",
       "      <td>-0.00</td>\n",
       "    </tr>\n",
       "    <tr>\n",
       "      <th>total claim amount</th>\n",
       "      <td>-0.00</td>\n",
       "      <td>0.23</td>\n",
       "      <td>-0.36</td>\n",
       "      <td>0.63</td>\n",
       "      <td>0.01</td>\n",
       "      <td>-0.00</td>\n",
       "      <td>-0.02</td>\n",
       "      <td>-0.00</td>\n",
       "      <td>1.00</td>\n",
       "    </tr>\n",
       "  </tbody>\n",
       "</table>\n",
       "</div>"
      ],
      "text/plain": [
       "                               unnamed: 0  customer lifetime value  income  \\\n",
       "unnamed: 0                           1.00                    -0.00    0.01   \n",
       "customer lifetime value             -0.00                     1.00    0.02   \n",
       "income                               0.01                     0.02    1.00   \n",
       "monthly premium auto                -0.00                     0.40   -0.02   \n",
       "months since last claim              0.01                     0.01   -0.03   \n",
       "months since policy inception        0.01                     0.01    0.00   \n",
       "number of open complaints            0.00                    -0.03    0.01   \n",
       "number of policies                   0.01                     0.02   -0.01   \n",
       "total claim amount                  -0.00                     0.23   -0.36   \n",
       "\n",
       "                               monthly premium auto  months since last claim  \\\n",
       "unnamed: 0                                    -0.00                     0.01   \n",
       "customer lifetime value                        0.40                     0.01   \n",
       "income                                        -0.02                    -0.03   \n",
       "monthly premium auto                           1.00                     0.00   \n",
       "months since last claim                        0.00                     1.00   \n",
       "months since policy inception                  0.02                    -0.04   \n",
       "number of open complaints                     -0.01                     0.01   \n",
       "number of policies                            -0.01                     0.01   \n",
       "total claim amount                             0.63                     0.01   \n",
       "\n",
       "                               months since policy inception  \\\n",
       "unnamed: 0                                              0.01   \n",
       "customer lifetime value                                 0.01   \n",
       "income                                                  0.00   \n",
       "monthly premium auto                                    0.02   \n",
       "months since last claim                                -0.04   \n",
       "months since policy inception                           1.00   \n",
       "number of open complaints                              -0.00   \n",
       "number of policies                                     -0.02   \n",
       "total claim amount                                     -0.00   \n",
       "\n",
       "                               number of open complaints  number of policies  \\\n",
       "unnamed: 0                                          0.00                0.01   \n",
       "customer lifetime value                            -0.03                0.02   \n",
       "income                                              0.01               -0.01   \n",
       "monthly premium auto                               -0.01               -0.01   \n",
       "months since last claim                             0.01                0.01   \n",
       "months since policy inception                      -0.00               -0.02   \n",
       "number of open complaints                           1.00               -0.00   \n",
       "number of policies                                 -0.00                1.00   \n",
       "total claim amount                                 -0.02               -0.00   \n",
       "\n",
       "                               total claim amount  \n",
       "unnamed: 0                                  -0.00  \n",
       "customer lifetime value                      0.23  \n",
       "income                                      -0.36  \n",
       "monthly premium auto                         0.63  \n",
       "months since last claim                      0.01  \n",
       "months since policy inception               -0.00  \n",
       "number of open complaints                   -0.02  \n",
       "number of policies                          -0.00  \n",
       "total claim amount                           1.00  "
      ]
     },
     "metadata": {},
     "output_type": "display_data"
    }
   ],
   "source": [
    "#To check the multicollinearity is necesarry to check the correlation between the variables. \n",
    "\n",
    "correlations_matrix_mcan = round(mca_numerical.corr(),2)\n",
    "display(correlations_matrix_mcan)"
   ]
  },
  {
   "cell_type": "code",
   "execution_count": 69,
   "id": "a1d1ad8e",
   "metadata": {},
   "outputs": [
    {
     "data": {
      "image/png": "[encoded data removed]",
      "text/plain": [
       "<Figure size 640x480 with 2 Axes>"
      ]
     },
     "metadata": {},
     "output_type": "display_data"
    }
   ],
   "source": [
    "sns.heatmap(correlations_matrix_mcan, annot=True)\n",
    "plt.show()"
   ]
  },
  {
   "cell_type": "markdown",
   "id": "a9f5b11b",
   "metadata": {},
   "source": [
    "<font color=\"blue\">Nothing looks to be really correlated. **Total claum amount** and **monthly premium auto** have the biggest correlation but it is just 0,63, no big correlation</font>"
   ]
  },
  {
   "cell_type": "markdown",
   "id": "e222974a",
   "metadata": {},
   "source": [
    "<font size=\"3\">**4.5**) Drop one of the two features that show a high correlation between them (greater than 0.9). Write code for both the correlation matrix and for seaborn heatmap. If there is no pair of features that have a high correlation, then do not drop any features</font> "
   ]
  },
  {
   "cell_type": "markdown",
   "id": "02425335",
   "metadata": {},
   "source": [
    "<font color=\"blue\">No Correlations biggest than 0,9</font>"
   ]
  },
  {
   "cell_type": "markdown",
   "id": "f04b0209",
   "metadata": {},
   "source": [
    "# >> Processing Data\n",
    "\n",
    "<br>\n",
    "<br>"
   ]
  },
  {
   "cell_type": "markdown",
   "id": "c42dc740",
   "metadata": {},
   "source": [
    "<font size=\"5\">**5) Lab | Customer Analysis Round 5**</font>\n",
    "\n",
    "<br>\n",
    "<br>\n"
   ]
  },
  {
   "cell_type": "markdown",
   "id": "c56609ac",
   "metadata": {},
   "source": [
    "<font size=\"3\">**5.1)** X-y split.</font>\n",
    "\n",
    "<br>\n"
   ]
  },
  {
   "cell_type": "markdown",
   "id": "a88fc3b4",
   "metadata": {},
   "source": [
    "<font color=\"blue\">No variable looks really corraled to the others. It feels difficult that X could predict y</font>\n",
    "\n",
    "<font color=\"blue\">For the case of the Lab i will select the one with more correlations with the others. </font>\n",
    "\n",
    "<br>\n"
   ]
  },
  {
   "cell_type": "code",
   "execution_count": 70,
   "id": "987c338a",
   "metadata": {},
   "outputs": [],
   "source": [
    "# 'y' will be 'total claim amount' , it represent the one with more correlations with others"
   ]
  },
  {
   "cell_type": "code",
   "execution_count": 71,
   "id": "219bbfdd",
   "metadata": {},
   "outputs": [
    {
     "data": {
      "text/plain": [
       "(9688, 9)"
      ]
     },
     "execution_count": 71,
     "metadata": {},
     "output_type": "execute_result"
    }
   ],
   "source": [
    "mca_numerical.shape"
   ]
  },
  {
   "cell_type": "code",
   "execution_count": 72,
   "id": "fa1f6cf5",
   "metadata": {},
   "outputs": [
    {
     "name": "stdout",
     "output_type": "stream",
     "text": [
      "<class 'pandas.core.series.Series'>\n"
     ]
    },
    {
     "data": {
      "text/plain": [
       "(9688,)"
      ]
     },
     "execution_count": 72,
     "metadata": {},
     "output_type": "execute_result"
    }
   ],
   "source": [
    "y = mca_numerical['total claim amount']\n",
    "\n",
    "print(type(y))\n",
    "y.shape"
   ]
  },
  {
   "cell_type": "code",
   "execution_count": 73,
   "id": "e6a30cc2",
   "metadata": {},
   "outputs": [],
   "source": [
    "X = mca_numerical.drop('total claim amount', axis = 1) "
   ]
  },
  {
   "cell_type": "code",
   "execution_count": 74,
   "id": "478c5872",
   "metadata": {},
   "outputs": [
    {
     "name": "stdout",
     "output_type": "stream",
     "text": [
      "<class 'pandas.core.frame.DataFrame'>\n"
     ]
    },
    {
     "data": {
      "text/plain": [
       "(9688, 8)"
      ]
     },
     "execution_count": 74,
     "metadata": {},
     "output_type": "execute_result"
    }
   ],
   "source": [
    "print(type(X))\n",
    "X.shape"
   ]
  },
  {
   "cell_type": "markdown",
   "id": "f2d28a4a",
   "metadata": {},
   "source": [
    "<font color=\"blue\">I have now my X and Y, Where Data frame is splitted in two --> X.shape + y.shape = mca_numerical.shape </font>"
   ]
  },
  {
   "cell_type": "markdown",
   "id": "709e2728",
   "metadata": {},
   "source": [
    "<font size=\"3\">**5.2)** Normalize (numerical).</font>\n",
    "\n",
    "<br>"
   ]
  },
  {
   "cell_type": "code",
   "execution_count": 75,
   "id": "f8789475",
   "metadata": {},
   "outputs": [],
   "source": [
    "# Normalize --> apply MixMaxTransformer --> https://www.youtube.com/watch?v=5KLVzJyJOEQ"
   ]
  },
  {
   "cell_type": "code",
   "execution_count": 76,
   "id": "79c0a5b1",
   "metadata": {},
   "outputs": [],
   "source": [
    "from sklearn.preprocessing import MinMaxScaler"
   ]
  },
  {
   "cell_type": "code",
   "execution_count": 77,
   "id": "35c4569d",
   "metadata": {},
   "outputs": [],
   "source": [
    "scaler = MinMaxScaler()"
   ]
  },
  {
   "cell_type": "code",
   "execution_count": 78,
   "id": "7a73ac08",
   "metadata": {},
   "outputs": [],
   "source": [
    "X_normalized = scaler.fit_transform(X)"
   ]
  },
  {
   "cell_type": "code",
   "execution_count": 79,
   "id": "df633777",
   "metadata": {},
   "outputs": [
    {
     "data": {
      "text/plain": [
       "array([[0.00000000e+00, 3.57522189e-02, 4.80381272e-01, ...,\n",
       "        5.25252525e-01, 0.00000000e+00, 1.00000000e+00],\n",
       "       [9.16758343e-05, 4.05904733e-03, 0.00000000e+00, ...,\n",
       "        2.62626263e-01, 0.00000000e+00, 0.00000000e+00],\n",
       "       [1.83351669e-04, 1.60264406e-01, 2.21432072e-01, ...,\n",
       "        3.13131313e-01, 0.00000000e+00, 1.25000000e-01],\n",
       "       ...,\n",
       "       [9.99816648e-01, 4.12814147e-02, 6.11576199e-01, ...,\n",
       "        6.86868687e-01, 0.00000000e+00, 6.25000000e-01],\n",
       "       [9.99908324e-01, 2.70121649e-01, 3.98445705e-01, ...,\n",
       "        6.36363636e-01, 0.00000000e+00, 1.25000000e-01],\n",
       "       [1.00000000e+00, 1.23717241e-01, 6.42071994e-01, ...,\n",
       "        2.72727273e-01, 8.00000000e-01, 6.25000000e-01]])"
      ]
     },
     "execution_count": 79,
     "metadata": {},
     "output_type": "execute_result"
    }
   ],
   "source": [
    "X_normalized"
   ]
  },
  {
   "cell_type": "code",
   "execution_count": 80,
   "id": "b9e9ff18",
   "metadata": {},
   "outputs": [
    {
     "data": {
      "text/plain": [
       "0.0"
      ]
     },
     "metadata": {},
     "output_type": "display_data"
    },
    {
     "data": {
      "text/plain": [
       "1.0"
      ]
     },
     "metadata": {},
     "output_type": "display_data"
    }
   ],
   "source": [
    "display(X_normalized.min())\n",
    "display(X_normalized.max())"
   ]
  },
  {
   "cell_type": "markdown",
   "id": "7acb136e",
   "metadata": {},
   "source": [
    "# >> Linear Regression\n",
    "\n",
    "<br>\n",
    "<br>"
   ]
  },
  {
   "cell_type": "markdown",
   "id": "97928d6d",
   "metadata": {},
   "source": [
    "<font size=\"5\">**6) Lab | Customer Analysis Round 6**</font>\n",
    "\n",
    "<br>\n",
    "<br>\n"
   ]
  },
  {
   "cell_type": "markdown",
   "id": "5681ded8",
   "metadata": {},
   "source": [
    "<font size=\"4\">**6.1**) Train-test split."
   ]
  },
  {
   "cell_type": "code",
   "execution_count": 81,
   "id": "6bf39316",
   "metadata": {},
   "outputs": [],
   "source": [
    "from sklearn.model_selection import train_test_split"
   ]
  },
  {
   "cell_type": "code",
   "execution_count": 82,
   "id": "08d46840",
   "metadata": {},
   "outputs": [],
   "source": [
    "X_train, X_test, y_train, y_test = train_test_split(X,y, test_size = 0.2, random_state=100)"
   ]
  },
  {
   "cell_type": "code",
   "execution_count": 83,
   "id": "ba33e9bf",
   "metadata": {},
   "outputs": [
    {
     "data": {
      "text/html": [
       "<div>\n",
       "<style scoped>\n",
       "    .dataframe tbody tr th:only-of-type {\n",
       "        vertical-align: middle;\n",
       "    }\n",
       "\n",
       "    .dataframe tbody tr th {\n",
       "        vertical-align: top;\n",
       "    }\n",
       "\n",
       "    .dataframe thead th {\n",
       "        text-align: right;\n",
       "    }\n",
       "</style>\n",
       "<table border=\"1\" class=\"dataframe\">\n",
       "  <thead>\n",
       "    <tr style=\"text-align: right;\">\n",
       "      <th></th>\n",
       "      <th>unnamed: 0</th>\n",
       "      <th>customer lifetime value</th>\n",
       "      <th>income</th>\n",
       "      <th>monthly premium auto</th>\n",
       "      <th>months since last claim</th>\n",
       "      <th>months since policy inception</th>\n",
       "      <th>number of open complaints</th>\n",
       "      <th>number of policies</th>\n",
       "    </tr>\n",
       "  </thead>\n",
       "  <tbody>\n",
       "    <tr>\n",
       "      <th>3655</th>\n",
       "      <td>3655</td>\n",
       "      <td>2414.770722</td>\n",
       "      <td>0</td>\n",
       "      <td>67</td>\n",
       "      <td>3.0</td>\n",
       "      <td>54</td>\n",
       "      <td>0.0</td>\n",
       "      <td>1</td>\n",
       "    </tr>\n",
       "    <tr>\n",
       "      <th>5959</th>\n",
       "      <td>5959</td>\n",
       "      <td>7553.936525</td>\n",
       "      <td>38008</td>\n",
       "      <td>68</td>\n",
       "      <td>12.0</td>\n",
       "      <td>40</td>\n",
       "      <td>4.0</td>\n",
       "      <td>2</td>\n",
       "    </tr>\n",
       "    <tr>\n",
       "      <th>6606</th>\n",
       "      <td>6606</td>\n",
       "      <td>8605.495006</td>\n",
       "      <td>47589</td>\n",
       "      <td>109</td>\n",
       "      <td>35.0</td>\n",
       "      <td>44</td>\n",
       "      <td>1.0</td>\n",
       "      <td>7</td>\n",
       "    </tr>\n",
       "    <tr>\n",
       "      <th>10830</th>\n",
       "      <td>10830</td>\n",
       "      <td>2483.544888</td>\n",
       "      <td>87492</td>\n",
       "      <td>62</td>\n",
       "      <td>15.0</td>\n",
       "      <td>69</td>\n",
       "      <td>0.0</td>\n",
       "      <td>1</td>\n",
       "    </tr>\n",
       "    <tr>\n",
       "      <th>6055</th>\n",
       "      <td>6055</td>\n",
       "      <td>2491.317024</td>\n",
       "      <td>36631</td>\n",
       "      <td>62</td>\n",
       "      <td>30.0</td>\n",
       "      <td>77</td>\n",
       "      <td>0.0</td>\n",
       "      <td>1</td>\n",
       "    </tr>\n",
       "    <tr>\n",
       "      <th>...</th>\n",
       "      <td>...</td>\n",
       "      <td>...</td>\n",
       "      <td>...</td>\n",
       "      <td>...</td>\n",
       "      <td>...</td>\n",
       "      <td>...</td>\n",
       "      <td>...</td>\n",
       "      <td>...</td>\n",
       "    </tr>\n",
       "    <tr>\n",
       "      <th>384</th>\n",
       "      <td>384</td>\n",
       "      <td>17684.654560</td>\n",
       "      <td>82667</td>\n",
       "      <td>64</td>\n",
       "      <td>5.0</td>\n",
       "      <td>65</td>\n",
       "      <td>1.0</td>\n",
       "      <td>2</td>\n",
       "    </tr>\n",
       "    <tr>\n",
       "      <th>83</th>\n",
       "      <td>83</td>\n",
       "      <td>3755.806897</td>\n",
       "      <td>56178</td>\n",
       "      <td>94</td>\n",
       "      <td>1.0</td>\n",
       "      <td>39</td>\n",
       "      <td>0.0</td>\n",
       "      <td>1</td>\n",
       "    </tr>\n",
       "    <tr>\n",
       "      <th>9066</th>\n",
       "      <td>9066</td>\n",
       "      <td>9067.658438</td>\n",
       "      <td>78250</td>\n",
       "      <td>114</td>\n",
       "      <td>7.0</td>\n",
       "      <td>66</td>\n",
       "      <td>0.0</td>\n",
       "      <td>6</td>\n",
       "    </tr>\n",
       "    <tr>\n",
       "      <th>7847</th>\n",
       "      <td>7847</td>\n",
       "      <td>2453.570794</td>\n",
       "      <td>29735</td>\n",
       "      <td>69</td>\n",
       "      <td>3.0</td>\n",
       "      <td>92</td>\n",
       "      <td>0.0</td>\n",
       "      <td>1</td>\n",
       "    </tr>\n",
       "    <tr>\n",
       "      <th>6386</th>\n",
       "      <td>6386</td>\n",
       "      <td>3903.474784</td>\n",
       "      <td>60068</td>\n",
       "      <td>98</td>\n",
       "      <td>17.0</td>\n",
       "      <td>75</td>\n",
       "      <td>0.0</td>\n",
       "      <td>1</td>\n",
       "    </tr>\n",
       "  </tbody>\n",
       "</table>\n",
       "<p>7750 rows × 8 columns</p>\n",
       "</div>"
      ],
      "text/plain": [
       "       unnamed: 0  customer lifetime value  income  monthly premium auto  \\\n",
       "3655         3655              2414.770722       0                    67   \n",
       "5959         5959              7553.936525   38008                    68   \n",
       "6606         6606              8605.495006   47589                   109   \n",
       "10830       10830              2483.544888   87492                    62   \n",
       "6055         6055              2491.317024   36631                    62   \n",
       "...           ...                      ...     ...                   ...   \n",
       "384           384             17684.654560   82667                    64   \n",
       "83             83              3755.806897   56178                    94   \n",
       "9066         9066              9067.658438   78250                   114   \n",
       "7847         7847              2453.570794   29735                    69   \n",
       "6386         6386              3903.474784   60068                    98   \n",
       "\n",
       "       months since last claim  months since policy inception  \\\n",
       "3655                       3.0                             54   \n",
       "5959                      12.0                             40   \n",
       "6606                      35.0                             44   \n",
       "10830                     15.0                             69   \n",
       "6055                      30.0                             77   \n",
       "...                        ...                            ...   \n",
       "384                        5.0                             65   \n",
       "83                         1.0                             39   \n",
       "9066                       7.0                             66   \n",
       "7847                       3.0                             92   \n",
       "6386                      17.0                             75   \n",
       "\n",
       "       number of open complaints  number of policies  \n",
       "3655                         0.0                   1  \n",
       "5959                         4.0                   2  \n",
       "6606                         1.0                   7  \n",
       "10830                        0.0                   1  \n",
       "6055                         0.0                   1  \n",
       "...                          ...                 ...  \n",
       "384                          1.0                   2  \n",
       "83                           0.0                   1  \n",
       "9066                         0.0                   6  \n",
       "7847                         0.0                   1  \n",
       "6386                         0.0                   1  \n",
       "\n",
       "[7750 rows x 8 columns]"
      ]
     },
     "execution_count": 83,
     "metadata": {},
     "output_type": "execute_result"
    }
   ],
   "source": [
    "X_train"
   ]
  },
  {
   "cell_type": "code",
   "execution_count": 84,
   "id": "b9ece91c",
   "metadata": {},
   "outputs": [
    {
     "data": {
      "text/html": [
       "<div>\n",
       "<style scoped>\n",
       "    .dataframe tbody tr th:only-of-type {\n",
       "        vertical-align: middle;\n",
       "    }\n",
       "\n",
       "    .dataframe tbody tr th {\n",
       "        vertical-align: top;\n",
       "    }\n",
       "\n",
       "    .dataframe thead th {\n",
       "        text-align: right;\n",
       "    }\n",
       "</style>\n",
       "<table border=\"1\" class=\"dataframe\">\n",
       "  <thead>\n",
       "    <tr style=\"text-align: right;\">\n",
       "      <th></th>\n",
       "      <th>unnamed: 0</th>\n",
       "      <th>customer lifetime value</th>\n",
       "      <th>income</th>\n",
       "      <th>monthly premium auto</th>\n",
       "      <th>months since last claim</th>\n",
       "      <th>months since policy inception</th>\n",
       "      <th>number of open complaints</th>\n",
       "      <th>number of policies</th>\n",
       "    </tr>\n",
       "  </thead>\n",
       "  <tbody>\n",
       "    <tr>\n",
       "      <th>10178</th>\n",
       "      <td>10178</td>\n",
       "      <td>7377.231238</td>\n",
       "      <td>0</td>\n",
       "      <td>69</td>\n",
       "      <td>16.000000</td>\n",
       "      <td>42</td>\n",
       "      <td>0.0</td>\n",
       "      <td>2</td>\n",
       "    </tr>\n",
       "    <tr>\n",
       "      <th>1062</th>\n",
       "      <td>1062</td>\n",
       "      <td>5876.054314</td>\n",
       "      <td>32848</td>\n",
       "      <td>74</td>\n",
       "      <td>2.000000</td>\n",
       "      <td>59</td>\n",
       "      <td>0.0</td>\n",
       "      <td>5</td>\n",
       "    </tr>\n",
       "    <tr>\n",
       "      <th>5583</th>\n",
       "      <td>5583</td>\n",
       "      <td>4291.056403</td>\n",
       "      <td>0</td>\n",
       "      <td>62</td>\n",
       "      <td>1.000000</td>\n",
       "      <td>2</td>\n",
       "      <td>1.0</td>\n",
       "      <td>7</td>\n",
       "    </tr>\n",
       "    <tr>\n",
       "      <th>9452</th>\n",
       "      <td>9452</td>\n",
       "      <td>8317.302513</td>\n",
       "      <td>64367</td>\n",
       "      <td>104</td>\n",
       "      <td>15.149071</td>\n",
       "      <td>14</td>\n",
       "      <td>0.0</td>\n",
       "      <td>9</td>\n",
       "    </tr>\n",
       "    <tr>\n",
       "      <th>2269</th>\n",
       "      <td>2269</td>\n",
       "      <td>10876.479400</td>\n",
       "      <td>71255</td>\n",
       "      <td>138</td>\n",
       "      <td>28.000000</td>\n",
       "      <td>16</td>\n",
       "      <td>0.0</td>\n",
       "      <td>4</td>\n",
       "    </tr>\n",
       "    <tr>\n",
       "      <th>...</th>\n",
       "      <td>...</td>\n",
       "      <td>...</td>\n",
       "      <td>...</td>\n",
       "      <td>...</td>\n",
       "      <td>...</td>\n",
       "      <td>...</td>\n",
       "      <td>...</td>\n",
       "      <td>...</td>\n",
       "    </tr>\n",
       "    <tr>\n",
       "      <th>1924</th>\n",
       "      <td>1924</td>\n",
       "      <td>6342.473656</td>\n",
       "      <td>86687</td>\n",
       "      <td>80</td>\n",
       "      <td>4.000000</td>\n",
       "      <td>82</td>\n",
       "      <td>0.0</td>\n",
       "      <td>3</td>\n",
       "    </tr>\n",
       "    <tr>\n",
       "      <th>7481</th>\n",
       "      <td>7481</td>\n",
       "      <td>2478.180205</td>\n",
       "      <td>0</td>\n",
       "      <td>71</td>\n",
       "      <td>24.000000</td>\n",
       "      <td>32</td>\n",
       "      <td>0.0</td>\n",
       "      <td>1</td>\n",
       "    </tr>\n",
       "    <tr>\n",
       "      <th>5742</th>\n",
       "      <td>5742</td>\n",
       "      <td>8513.697414</td>\n",
       "      <td>34505</td>\n",
       "      <td>106</td>\n",
       "      <td>13.000000</td>\n",
       "      <td>44</td>\n",
       "      <td>0.0</td>\n",
       "      <td>9</td>\n",
       "    </tr>\n",
       "    <tr>\n",
       "      <th>4354</th>\n",
       "      <td>4354</td>\n",
       "      <td>12252.601790</td>\n",
       "      <td>0</td>\n",
       "      <td>115</td>\n",
       "      <td>12.000000</td>\n",
       "      <td>17</td>\n",
       "      <td>1.0</td>\n",
       "      <td>2</td>\n",
       "    </tr>\n",
       "    <tr>\n",
       "      <th>1049</th>\n",
       "      <td>1049</td>\n",
       "      <td>2476.046413</td>\n",
       "      <td>54831</td>\n",
       "      <td>61</td>\n",
       "      <td>15.149071</td>\n",
       "      <td>45</td>\n",
       "      <td>0.0</td>\n",
       "      <td>1</td>\n",
       "    </tr>\n",
       "  </tbody>\n",
       "</table>\n",
       "<p>1938 rows × 8 columns</p>\n",
       "</div>"
      ],
      "text/plain": [
       "       unnamed: 0  customer lifetime value  income  monthly premium auto  \\\n",
       "10178       10178              7377.231238       0                    69   \n",
       "1062         1062              5876.054314   32848                    74   \n",
       "5583         5583              4291.056403       0                    62   \n",
       "9452         9452              8317.302513   64367                   104   \n",
       "2269         2269             10876.479400   71255                   138   \n",
       "...           ...                      ...     ...                   ...   \n",
       "1924         1924              6342.473656   86687                    80   \n",
       "7481         7481              2478.180205       0                    71   \n",
       "5742         5742              8513.697414   34505                   106   \n",
       "4354         4354             12252.601790       0                   115   \n",
       "1049         1049              2476.046413   54831                    61   \n",
       "\n",
       "       months since last claim  months since policy inception  \\\n",
       "10178                16.000000                             42   \n",
       "1062                  2.000000                             59   \n",
       "5583                  1.000000                              2   \n",
       "9452                 15.149071                             14   \n",
       "2269                 28.000000                             16   \n",
       "...                        ...                            ...   \n",
       "1924                  4.000000                             82   \n",
       "7481                 24.000000                             32   \n",
       "5742                 13.000000                             44   \n",
       "4354                 12.000000                             17   \n",
       "1049                 15.149071                             45   \n",
       "\n",
       "       number of open complaints  number of policies  \n",
       "10178                        0.0                   2  \n",
       "1062                         0.0                   5  \n",
       "5583                         1.0                   7  \n",
       "9452                         0.0                   9  \n",
       "2269                         0.0                   4  \n",
       "...                          ...                 ...  \n",
       "1924                         0.0                   3  \n",
       "7481                         0.0                   1  \n",
       "5742                         0.0                   9  \n",
       "4354                         1.0                   2  \n",
       "1049                         0.0                   1  \n",
       "\n",
       "[1938 rows x 8 columns]"
      ]
     },
     "execution_count": 84,
     "metadata": {},
     "output_type": "execute_result"
    }
   ],
   "source": [
    "X_test"
   ]
  },
  {
   "cell_type": "code",
   "execution_count": 86,
   "id": "abc75bd0",
   "metadata": {},
   "outputs": [
    {
     "name": "stdout",
     "output_type": "stream",
     "text": [
      "X Size:  9688\n",
      "X_train Size:  7750\n",
      "X_test Size:  1938\n"
     ]
    }
   ],
   "source": [
    "#Checking sizes\n",
    "\n",
    "print('X Size: ',X.shape[0])\n",
    "print('X_train Size: ',X_train.shape[0])\n",
    "print('X_test Size: ',X_test.shape[0])\n"
   ]
  },
  {
   "cell_type": "markdown",
   "id": "153a5bed",
   "metadata": {},
   "source": [
    "My X_train is the 80% of X so is ok"
   ]
  },
  {
   "cell_type": "code",
   "execution_count": 87,
   "id": "2611a242",
   "metadata": {},
   "outputs": [
    {
     "name": "stdout",
     "output_type": "stream",
     "text": [
      "Y Size:  9688\n",
      "y_train Size:  7750\n",
      "y_test Size:  1938\n"
     ]
    }
   ],
   "source": [
    "print('Y Size: ',y.shape[0])\n",
    "print('y_train Size: ',y_train.shape[0])\n",
    "print('y_test Size: ',y_test.shape[0])"
   ]
  },
  {
   "cell_type": "markdown",
   "id": "ae2c6876",
   "metadata": {},
   "source": [
    "<font size =\"4\"> **6.2**) Apply linear regression."
   ]
  },
  {
   "cell_type": "code",
   "execution_count": 89,
   "id": "06f637ea",
   "metadata": {},
   "outputs": [],
   "source": [
    "from sklearn.linear_model import LinearRegression"
   ]
  },
  {
   "cell_type": "code",
   "execution_count": 90,
   "id": "08ccf377",
   "metadata": {},
   "outputs": [
    {
     "data": {
      "text/plain": [
       "LinearRegression()"
      ]
     },
     "execution_count": 90,
     "metadata": {},
     "output_type": "execute_result"
    }
   ],
   "source": [
    "lr = LinearRegression()\n",
    "lr.fit(X_train, y_train)"
   ]
  },
  {
   "cell_type": "markdown",
   "id": "fd69f528",
   "metadata": {},
   "source": [
    "Now apply the model to make a prediction"
   ]
  },
  {
   "cell_type": "code",
   "execution_count": 92,
   "id": "f6e86f09",
   "metadata": {},
   "outputs": [],
   "source": [
    "y_lr_train_pred = lr.predict(X_train)\n",
    "y_lr_test_pred = lr.predict(X_test)"
   ]
  },
  {
   "cell_type": "code",
   "execution_count": 93,
   "id": "c70e1a77",
   "metadata": {},
   "outputs": [
    {
     "data": {
      "text/plain": [
       "array([424.98394322, 292.35531406, 484.18165781, ..., 409.8412937 ,\n",
       "       329.33511621, 383.71363331])"
      ]
     },
     "execution_count": 93,
     "metadata": {},
     "output_type": "execute_result"
    }
   ],
   "source": [
    "y_lr_train_pred"
   ]
  },
  {
   "cell_type": "code",
   "execution_count": 94,
   "id": "b61e0fe2",
   "metadata": {},
   "outputs": [
    {
     "data": {
      "text/plain": [
       "array([431.98535629, 353.16532799, 407.68017584, ..., 518.01163373,\n",
       "       675.73423566, 213.28973113])"
      ]
     },
     "execution_count": 94,
     "metadata": {},
     "output_type": "execute_result"
    }
   ],
   "source": [
    "y_lr_test_pred"
   ]
  },
  {
   "cell_type": "markdown",
   "id": "bbb19a96",
   "metadata": {},
   "source": [
    "# >> Model Validation\n",
    "\n",
    "<br>\n",
    "<br>"
   ]
  },
  {
   "cell_type": "markdown",
   "id": "54e7a198",
   "metadata": {},
   "source": [
    "Now compare the model to the original value"
   ]
  },
  {
   "cell_type": "code",
   "execution_count": 95,
   "id": "4f307b9c",
   "metadata": {},
   "outputs": [
    {
     "data": {
      "text/plain": [
       "3655     482.400000\n",
       "5959     321.789644\n",
       "6606     110.529874\n",
       "10830    264.461805\n",
       "6055      67.530904\n",
       "            ...    \n",
       "384      307.200000\n",
       "83       451.200000\n",
       "9066     547.200000\n",
       "7847     331.200000\n",
       "6386     470.400000\n",
       "Name: total claim amount, Length: 7750, dtype: float64"
      ]
     },
     "execution_count": 95,
     "metadata": {},
     "output_type": "execute_result"
    }
   ],
   "source": [
    "y_train"
   ]
  },
  {
   "cell_type": "code",
   "execution_count": 100,
   "id": "1853d1f9",
   "metadata": {},
   "outputs": [],
   "source": [
    "from sklearn.metrics import mean_squared_error, r2_score, mean_absolute_error"
   ]
  },
  {
   "cell_type": "code",
   "execution_count": 104,
   "id": "ad5788a2",
   "metadata": {},
   "outputs": [],
   "source": [
    "lr_train_mse = mean_squared_error(y_train, y_lr_train_pred)\n",
    "lr_train_r2 = r2_score(y_train, y_lr_train_pred)\n",
    "lr_train_rmse = np.sqrt(lr_train_mse)\n",
    "lr_train_mae = mean_absolute_error(y_train, y_lr_train_pred)\n",
    "\n",
    "\n",
    "lr_test_mse = mean_squared_error(y_test, y_lr_test_pred)\n",
    "lr_test_r2 = r2_score(y_test, y_lr_test_pred)\n",
    "lr_test_rmse = np.sqrt(lr_test_mse)\n",
    "lr_test_mae = mean_absolute_error(y_test, y_lr_test_pred)\n"
   ]
  },
  {
   "cell_type": "code",
   "execution_count": 106,
   "id": "fff91b93",
   "metadata": {},
   "outputs": [
    {
     "name": "stdout",
     "output_type": "stream",
     "text": [
      "LR MSE (Train):  40544.47528183203\n",
      "LR R2 (Train):  0.5141346086933754\n",
      "LR RMSE (Train):  201.3565873812725\n",
      "LR MAE (Train):  144.39259699716004\n",
      "\n",
      "LR MSE (Test):  42457.46472488795\n",
      "LR R2 (Test):  0.5353574007735287\n",
      "LR RMSE (Test):  206.05209226039892\n",
      "LR MAE (Test):  146.78629932722959\n"
     ]
    }
   ],
   "source": [
    "print('LR MSE (Train): ', lr_train_mse )\n",
    "print('LR R2 (Train): ', lr_train_r2)\n",
    "print('LR RMSE (Train): ', lr_train_rmse)\n",
    "print('LR MAE (Train): ', lr_train_mae)\n",
    "print('')\n",
    "print('LR MSE (Test): ', lr_test_mse )\n",
    "print('LR R2 (Test): ', lr_test_r2 )\n",
    "print('LR RMSE (Test): ', lr_test_rmse )\n",
    "print('LR MAE (Test): ', lr_test_mae)\n"
   ]
  },
  {
   "cell_type": "markdown",
   "id": "f8799a39",
   "metadata": {},
   "source": [
    "- Model is not so good at predicting y variables. \n",
    "- In other words Just 50% of the variability observed in the target variable is explained by the regression model.\n",
    "- MAE is equal to 146, it means that on average the model's predictions are 146 units away from the actual values. The mean is 432, si it is relatively big the Error, so not good at predictin"
   ]
  },
  {
   "cell_type": "code",
   "execution_count": 109,
   "id": "19ccb400",
   "metadata": {},
   "outputs": [
    {
     "data": {
      "text/plain": [
       "count    1938.000000\n",
       "mean      432.129526\n",
       "std       302.363659\n",
       "min         0.382107\n",
       "25%       251.444329\n",
       "50%       374.463706\n",
       "75%       542.400000\n",
       "max      2893.239678\n",
       "Name: total claim amount, dtype: float64"
      ]
     },
     "execution_count": 109,
     "metadata": {},
     "output_type": "execute_result"
    }
   ],
   "source": [
    "y_test.describe()"
   ]
  },
  {
   "cell_type": "code",
   "execution_count": null,
   "id": "e7f3c64b",
   "metadata": {},
   "outputs": [],
   "source": []
  }
 ],
 "metadata": {
  "kernelspec": {
   "display_name": "Python 3 (ipykernel)",
   "language": "python",
   "name": "python3"
  },
  "language_info": {
   "codemirror_mode": {
    "name": "ipython",
    "version": 3
   },
   "file_extension": ".py",
   "mimetype": "text/x-python",
   "name": "python",
   "nbconvert_exporter": "python",
   "pygments_lexer": "ipython3",
   "version": "3.9.13"
  }
 },
 "nbformat": 4,
 "nbformat_minor": 5
}
